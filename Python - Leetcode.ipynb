{
 "cells": [
  {
   "cell_type": "markdown",
   "id": "ff574f7d",
   "metadata": {},
   "source": [
    "## Table of Contents\n",
    "### Difficulty: Easy\n",
    "\n",
    "<li><a href=\"#Two Sum\">Two Sum</a></li>\n",
    "<li><a href=\"#Palindrome Number\">Palindrome Number</a></li>\n",
    "<li><a href=\"#Roman to Integer\">Roman to Integer</a></li>\n",
    "<li><a href=\"#Longest Common Prefix\">Longest Common Prefix</a></li>\n",
    "<li><a href=\"#Valid Parentheses\">Valid Parentheses</a></li>\n",
    "<li><a href=\"#Merge Two Sorted Lists\">Merge Two Sorted Lists</a></li>\n",
    "<li><a href=\"#Remove Duplicates from Sorted Array\">Remove Duplicates from Sorted Array</a></li>\n",
    "<li><a href=\"#Remove Element\">Remove Element</a></li>\n",
    "<li><a href=\"#Search Insert Position\">Search Insert Position</a></li>\n",
    "<li><a href=\"#Length of Last Word\">Length of Last Word</a></li>\n",
    "<li><a href=\"#Plus One\">Plus One</a></li>\n",
    "<li><a href=\"#Add Binary\">Add Binary</a></li>\n",
    "<li><a href=\"#Sqrt(x)\">Sqrt(x)</a></li>\n",
    "<li><a href=\"#Climbing Stairs\">Climbing Stairs</a></li>\n",
    "<li><a href=\"#Remove Duplicates from Sorted List\">Remove Duplicates from Sorted List</a></li>\n",
    "<li><a href=\"#Merge Sorted Array\">Merge Sorted Array</a></li>\n",
    "<li><a href=\"#q_28\">28. Find the Index of the First Occurrence in a String</a></li>\n",
    "<li><a href=\"#bt_inorder_traversal\">Binary Tree Inorder Traversal</a></li>\n",
    "<li><a href=\"#Same_Tree\">Same Tree</a></li>\n",
    "<li><a href=\"#Symmetric_Tree\">Symmetric Tree</a></li>\n",
    "<li><a href=\"#Maximum_Depth_of_Binary_Tree\">Maximum Depth of Binary Tree</a></li>\n",
    "<li><a href=\"#Convert__Array_to_Binary_Search_Tree\">Convert Sorted Array to Binary Search Tree</a></li>\n",
    "<li><a href=\"#Balanced_Binary_Tree\">Balanced_Binary_Tree</a></li>\n",
    "<li><a href=\"#Minimum_Depth_of_Binary_Tree\">Minimum_Depth_of_Binary_Tree</a></li>\n",
    "<li><a href=\"#Path_Sum\">Path_Sum</a></li>\n",
    "<li><a href=\"#Pascal's_Triangle\">Pascal's_Triangle</a></li>\n",
    "<li><a href=\"#Pascal's_Triangle_II\">Pascal's_Triangle_II</a></li>\n",
    "<li><a href=\"#Valid_Palindrome\">Valid_Palindrome</a></li>\n",
    "<li><a href=\"#Single_Number\">Single_Number</a></li>\n",
    "<li><a href=\"#Linked_List_Cycle\">Linked_List_Cycle</a></li>\n",
    "<li><a href=\"#Binary_Tree_Preorder_Traversal\">Binary_Tree_Preorder_Traversal</a></li>\n",
    "<li><a href=\"#Binary_Tree_Postorder_Traversal\">Binary_Tree_Postorder_Traversal</a></li>\n",
    "<li><a href=\"#Intersection_of_Two_Linked_Lists\">Intersection_of_Two_Linked_Lists</a></li>\n",
    "<li><a href=\"#Excel_Sheet_Column_Title\">Excel_Sheet_Column_Title</a></li>\n",
    "<li><a href=\"#Majority_Element\">Majority_Element</a></li>\n",
    "<li><a href=\"#Excel_Sheet_Column_Number\">Excel_Sheet_Column_Number</a></li>\n",
    "<li><a href=\"#Combine_Two_Tables\">Combine_Two_Tables</a></li>\n",
    "<li><a href=\"#Employees_Earning_More_Than_Their_Managers\">Employees_Earning_More_Than_Their_Managers</a></li>\n",
    "<li><a href=\"#Duplicate_Emails\">Duplicate_Emails</a></li>\n",
    "<li><a href=\"#Customers_Who_Never_Order\">Customers_Who_Never_Order</a></li>\n",
    "<li><a href=\"#Reverse_Bits\">Reverse_Bits</a></li>\n",
    "<li><a href=\"#Number_of_1_Bits\">Number_of_1_Bits</a></li>\n",
    "<li><a href=\"#Missing_Number\">Missing_Number</a></li>\n",
    "<li><a href=\"#Intersection_of_Two_Arrays_II\">Intersection_of_Two_Arrays_II</a></li>\n",
    "<li><a href=\"#Count_Complete_Tree_Nodes\">Count_Complete_Tree_Nodes</a></li>\n",
    "<li><a href=\"#Happy_Number\">Happy_Number</a></li>\n",
    "<li><a href=\"#Reverse_Linked_List\">Reverse_Linked_List</a></li>\n",
    "<li><a href=\"#Contains_Duplicate\">Contains_Duplicate</a></li>\n",
    "<li><a href=\"#Palindrome_Linked_List\">Palindrome_Linked_List</a></li>\n",
    "<li><a href=\"#Valid_Anagram\">Valid_Anagram</a></li>\n",
    "<li><a href=\"#Write_Here\">Write_Here</a></li>\n",
    "<li><a href=\"#Write_Here\">Write_Here</a></li>\n",
    "<li><a href=\"#Write_Here\">Write_Here</a></li>"
   ]
  },
  {
   "cell_type": "code",
   "execution_count": 2,
   "id": "5462d41b-6cb8-4273-bb58-768079a3dfbd",
   "metadata": {},
   "outputs": [
    {
     "name": "stdin",
     "output_type": "stream",
     "text": [
      " 242. Valid Anagram\n"
     ]
    },
    {
     "data": {
      "text/plain": [
       "'242._Valid_Anagram'"
      ]
     },
     "execution_count": 2,
     "metadata": {},
     "output_type": "execute_result"
    }
   ],
   "source": [
    "input().replace(' ', '_')"
   ]
  },
  {
   "cell_type": "code",
   "execution_count": 40,
   "id": "0d656a81-c32d-4a5a-bd41-864a50e39ef6",
   "metadata": {},
   "outputs": [],
   "source": [
    "# Provided ListNode class\n",
    "class ListNode:\n",
    "    def __init__(self, x):\n",
    "        self.val = x  # Value stored in the node\n",
    "        self.next = None  # Reference to the next node (initially None)\n",
    "\n",
    "# Function to build a singly linked list from a Python list\n",
    "def build_linked_list_from_list(input_list):\n",
    "    \"\"\"\n",
    "    Build a singly linked list from a Python list.\n",
    "    Args:\n",
    "        input_list (list): The list of elements to convert into a linked list.\n",
    "    Returns:\n",
    "        ListNode: The head of the constructed linked list.\n",
    "    \"\"\"\n",
    "    if not input_list:  # If the input list is empty, return None\n",
    "        return None\n",
    "\n",
    "    # Create the head of the linked list\n",
    "    head = ListNode(input_list[0])\n",
    "    current = head\n",
    "\n",
    "    # Iterate through the remaining elements in the list\n",
    "    for value in input_list[1:]:\n",
    "        current.next = ListNode(value)  # Create a new node and link it\n",
    "        current = current.next  # Move to the new node\n",
    "    \n",
    "    return head  # Return the head of the linked list\n",
    "\n",
    "# Function to display the linked list\n",
    "def display_linked_list(head):\n",
    "    \"\"\"\n",
    "    Display the linked list as a string.\n",
    "    Args:\n",
    "        head (ListNode): The head of the linked list.\n",
    "    \"\"\"\n",
    "    elements = []\n",
    "    current = head\n",
    "    while current:\n",
    "        elements.append(str(current.val))  # Add each node's value to the list\n",
    "        current = current.next\n",
    "    print(\" -> \".join(elements))  # Print the linked list as a string"
   ]
  },
  {
   "cell_type": "code",
   "execution_count": 90,
   "id": "b009bb8a-8c78-4d0a-9aa5-820ffe917357",
   "metadata": {},
   "outputs": [],
   "source": [
    "class TreeNode:\n",
    "    def __init__(self, val=0, left=None, right=None):\n",
    "        self.val = val\n",
    "        self.left = left\n",
    "        self.right = right"
   ]
  },
  {
   "cell_type": "code",
   "execution_count": 92,
   "id": "5f013edc-d726-4a9f-be5a-3108de6a372c",
   "metadata": {},
   "outputs": [],
   "source": [
    "def build_tree(level_order):\n",
    "    if not level_order:\n",
    "        return None\n",
    "    \n",
    "    # Create the root node\n",
    "    root = TreeNode(level_order[0])\n",
    "    queue = [root]\n",
    "    i = 1\n",
    "    \n",
    "    # Use a queue to construct the tree level by level\n",
    "    while queue and i < len(level_order):\n",
    "        current_node = queue.pop(0)\n",
    "        \n",
    "        # Left child\n",
    "        if i < len(level_order) and level_order[i] is not None:\n",
    "            current_node.left = TreeNode(level_order[i])\n",
    "            queue.append(current_node.left)\n",
    "        i += 1\n",
    "        \n",
    "        # Right child\n",
    "        if i < len(level_order) and level_order[i] is not None:\n",
    "            current_node.right = TreeNode(level_order[i])\n",
    "            queue.append(current_node.right)\n",
    "        i += 1\n",
    "    \n",
    "    return root"
   ]
  },
  {
   "cell_type": "markdown",
   "id": "d469fe96",
   "metadata": {},
   "source": [
    "<a id='Two Sum'></a>\n",
    "### Two Sum"
   ]
  },
  {
   "cell_type": "code",
   "execution_count": 1,
   "id": "6195eab4",
   "metadata": {},
   "outputs": [],
   "source": [
    "def twoSum(nums, target):\n",
    "    idx1 = 0\n",
    "    idx2 = idx1 + 1\n",
    "    nums_size = len(nums)\n",
    "    while idx1 < nums_size - 1:\n",
    "        if nums[idx1] + nums[idx2] == target:\n",
    "            return [idx1, idx2]\n",
    "        else:\n",
    "            if idx2 == nums_size - 1:\n",
    "                idx1 = idx1 + 1\n",
    "                idx2 = idx1 + 1\n",
    "            else:\n",
    "                idx2 = idx2 + 1\n",
    "                \n",
    "            continue\n",
    "    return []"
   ]
  },
  {
   "cell_type": "code",
   "execution_count": 2,
   "id": "309d7c26",
   "metadata": {},
   "outputs": [
    {
     "name": "stdout",
     "output_type": "stream",
     "text": [
      "[0, 1]\n"
     ]
    }
   ],
   "source": [
    "print(twoSum([2,7,11,15], 9))"
   ]
  },
  {
   "cell_type": "code",
   "execution_count": 3,
   "id": "dc1cafba",
   "metadata": {},
   "outputs": [
    {
     "name": "stdout",
     "output_type": "stream",
     "text": [
      "[0, 1]\n"
     ]
    }
   ],
   "source": [
    "print(twoSum([3, 3], 6))"
   ]
  },
  {
   "cell_type": "code",
   "execution_count": 4,
   "id": "0a21322d",
   "metadata": {},
   "outputs": [
    {
     "name": "stdout",
     "output_type": "stream",
     "text": [
      "[1, 2]\n"
     ]
    }
   ],
   "source": [
    "print(twoSum([3, 2, 4], 6))"
   ]
  },
  {
   "cell_type": "code",
   "execution_count": 5,
   "id": "01d87263",
   "metadata": {},
   "outputs": [
    {
     "name": "stdout",
     "output_type": "stream",
     "text": [
      "[0, 2]\n"
     ]
    }
   ],
   "source": [
    "print(twoSum([3, 2, 3], 6))"
   ]
  },
  {
   "cell_type": "markdown",
   "id": "facaf11e",
   "metadata": {},
   "source": [
    "<a id='Palindrome Number'></a>\n",
    "### Palindrome Number\n"
   ]
  },
  {
   "cell_type": "code",
   "execution_count": 6,
   "id": "1f8d250f",
   "metadata": {},
   "outputs": [],
   "source": [
    "def isPalindrome(x):\n",
    "    x = str(x)\n",
    "    if x == x[::-1]:\n",
    "        return True\n",
    "    return False"
   ]
  },
  {
   "cell_type": "code",
   "execution_count": 7,
   "id": "f9891be7",
   "metadata": {},
   "outputs": [],
   "source": [
    "def isPalindrome(x):\n",
    "    x = str(x)\n",
    "    return x == x[::-1]"
   ]
  },
  {
   "cell_type": "code",
   "execution_count": 8,
   "id": "d45cf42b",
   "metadata": {},
   "outputs": [
    {
     "name": "stdout",
     "output_type": "stream",
     "text": [
      "121\n",
      "True\n"
     ]
    }
   ],
   "source": [
    "val = int(input())\n",
    "print(isPalindrome(val))"
   ]
  },
  {
   "cell_type": "markdown",
   "id": "b1ec9f12",
   "metadata": {},
   "source": [
    "<a id='Roman to Integer'></a>\n",
    "### Roman to Integer"
   ]
  },
  {
   "cell_type": "code",
   "execution_count": 9,
   "id": "ebc520d3",
   "metadata": {},
   "outputs": [],
   "source": [
    "def romanToInt(s):\n",
    "    roman_symbols = {'I':1, 'V':5, 'X':10, 'L':50, 'C':100, 'D':500, 'M':1000}\n",
    "    sub_roman = {'IV':4, 'IX':9, 'XL':40, 'XC':90, 'CD':400, 'CM':900}\n",
    "    num = 0\n",
    "    while len(s) >= 2:\n",
    "        if s[:2] in sub_roman.keys():\n",
    "            num = num + sub_roman.get(s[:2])\n",
    "            s = s[2:]\n",
    "        else:\n",
    "            num = num + roman_symbols.get(s[0])\n",
    "            s = s[1:]\n",
    "    \n",
    "    if s:\n",
    "        num = num + roman_symbols.get(s)\n",
    "    return num \n",
    "    "
   ]
  },
  {
   "cell_type": "code",
   "execution_count": 10,
   "id": "5934b80d",
   "metadata": {},
   "outputs": [
    {
     "name": "stdout",
     "output_type": "stream",
     "text": [
      "1476\n"
     ]
    }
   ],
   "source": [
    "print(romanToInt(\"MCDLXXVI\")) # 1476"
   ]
  },
  {
   "cell_type": "markdown",
   "id": "011c8fe2",
   "metadata": {},
   "source": [
    "<a id='Longest Common Prefix'></a>\n",
    "### Longest Common Prefix"
   ]
  },
  {
   "cell_type": "code",
   "execution_count": 11,
   "id": "29568392",
   "metadata": {},
   "outputs": [],
   "source": [
    "def longestCommonPrefix(strs):\n",
    "    '''\n",
    "    This function takes a list of strings and return the longest common prefix among these strings\n",
    "    '''\n",
    "    prefix = 0\n",
    "    check=False\n",
    "    strs_sorted = sorted(strs, key=lambda x:len(x))\n",
    "    print(strs_sorted)\n",
    "    while not check:\n",
    "        if strs_sorted[0] == \"\" or len(strs_sorted) == 1:\n",
    "            return strs_sorted[0]\n",
    "        else:\n",
    "            s0 = strs_sorted[0][prefix]\n",
    "        for s in strs_sorted[1:]:\n",
    "            if s != \"\":\n",
    "                if s[prefix] == s0:\n",
    "                    check = False\n",
    "                else:\n",
    "                    check = True\n",
    "                    break\n",
    "            else:\n",
    "                return \"\"\n",
    "            \n",
    "        if not check:\n",
    "            prefix = prefix + 1\n",
    "            \n",
    "        if prefix == len(strs_sorted[0]):\n",
    "            break\n",
    "            \n",
    "    if prefix == 0:\n",
    "        return \"\"\n",
    "    else:\n",
    "        return strs[0][:prefix]"
   ]
  },
  {
   "cell_type": "code",
   "execution_count": 12,
   "id": "f197315d",
   "metadata": {},
   "outputs": [
    {
     "name": "stdout",
     "output_type": "stream",
     "text": [
      "['flow', 'flower', 'flight']\n"
     ]
    },
    {
     "data": {
      "text/plain": [
       "'fl'"
      ]
     },
     "execution_count": 12,
     "metadata": {},
     "output_type": "execute_result"
    }
   ],
   "source": [
    "longestCommonPrefix(['flower', 'flow', 'flight'])"
   ]
  },
  {
   "cell_type": "code",
   "execution_count": 13,
   "id": "50566770",
   "metadata": {},
   "outputs": [],
   "source": [
    "def longestCommonPrefix(strs):\n",
    "    prefix = \"\"\n",
    "    size = len(sorted(strs, key=lambda x:len(x))[0])\n",
    "    \n",
    "    for idx in range(size):\n",
    "        demo = []\n",
    "        for s in strs:\n",
    "            demo.append(s[idx])\n",
    "        if len(set(demo)) == 1:\n",
    "            prefix += demo[0]\n",
    "            \n",
    "        else:\n",
    "            break\n",
    "            \n",
    "    return prefix"
   ]
  },
  {
   "cell_type": "code",
   "execution_count": 14,
   "id": "489b29ed",
   "metadata": {},
   "outputs": [
    {
     "data": {
      "text/plain": [
       "'fl'"
      ]
     },
     "execution_count": 14,
     "metadata": {},
     "output_type": "execute_result"
    }
   ],
   "source": [
    "longestCommonPrefix(['flower', 'flow', 'flight'])"
   ]
  },
  {
   "cell_type": "markdown",
   "id": "0079046d",
   "metadata": {},
   "source": [
    "<a id='Valid Parentheses'></a>\n",
    "### Valid Parentheses"
   ]
  },
  {
   "cell_type": "code",
   "execution_count": 15,
   "id": "704a4cf7",
   "metadata": {},
   "outputs": [],
   "source": [
    "def isValid(s):\n",
    "        if len(s) % 2 != 0:\n",
    "            return False\n",
    "\n",
    "        stack = []\n",
    "        for char in s:\n",
    "            if char in ['{', '(', '[']:\n",
    "                stack.append(char)\n",
    "            else:\n",
    "                if not stack:\n",
    "                    return False\n",
    "                left_brace = stack.pop()\n",
    "                if left_brace == '{' and char == '}':\n",
    "                    continue\n",
    "                elif left_brace == '(' and char == ')':\n",
    "                    continue\n",
    "                elif left_brace == '[' and char == ']':\n",
    "                    continue\n",
    "                else:\n",
    "                    return False\n",
    "                \n",
    "        if stack:\n",
    "            return False\n",
    "        return True"
   ]
  },
  {
   "cell_type": "code",
   "execution_count": 21,
   "id": "e7b50861",
   "metadata": {},
   "outputs": [],
   "source": [
    "def isValid(s):\n",
    "    if len(s) % 2 != 0:\n",
    "        return False\n",
    "    stack = []\n",
    "    for char in s:\n",
    "        if char in ['{', '(', '[']:\n",
    "            stack.append(char)\n",
    "        elif char == '}' and stack and stack[-1] == '{':\n",
    "            stack.pop()\n",
    "        elif char == ')' and stack and stack[-1] == '(':\n",
    "            stack.pop()\n",
    "        elif char == ']' and stack and stack[-1] == '[':\n",
    "            stack.pop()\n",
    "        else:\n",
    "            return False\n",
    "    \n",
    "    if stack:\n",
    "        return False\n",
    "    return True"
   ]
  },
  {
   "cell_type": "code",
   "execution_count": 22,
   "id": "b61f5f22",
   "metadata": {},
   "outputs": [
    {
     "name": "stdout",
     "output_type": "stream",
     "text": [
      "True\n",
      "True\n",
      "True\n",
      "True\n",
      "True\n",
      "False\n",
      "False\n"
     ]
    }
   ],
   "source": [
    "print(isValid('{}()[]'))\n",
    "print(isValid('{([])}'))\n",
    "print(isValid('{[]{}}'))\n",
    "print(isValid('{()}()'))\n",
    "print(isValid('[]{}()()'))\n",
    "print(isValid(\"((}}\"))\n",
    "print(isValid(\"()]\"))"
   ]
  },
  {
   "cell_type": "markdown",
   "id": "7c110952",
   "metadata": {},
   "source": [
    "<a id='Merge Two Sorted Lists'></a>\n",
    "### Merge Two Sorted Lists"
   ]
  },
  {
   "cell_type": "code",
   "execution_count": 64,
   "id": "7ea98b0d",
   "metadata": {},
   "outputs": [],
   "source": [
    "#Definition for singly-linked list.\n",
    "class ListNode:\n",
    "    def __init__(self, val=0, next=None):\n",
    "        self.val = val\n",
    "        self.next = next        "
   ]
  },
  {
   "cell_type": "code",
   "execution_count": 65,
   "id": "e7f11c3e",
   "metadata": {},
   "outputs": [],
   "source": [
    "def forward_linked_list(size):\n",
    "    head = None\n",
    "    last = None\n",
    "    \n",
    "    while size > 0:\n",
    "        val = int(input())\n",
    "        newNode = ListNode(val)\n",
    "        if head == None:\n",
    "            head = newNode\n",
    "            last = newNode\n",
    "        else:\n",
    "            last.next = newNode\n",
    "            last = newNode\n",
    "            \n",
    "        size = size - 1\n",
    "    return head"
   ]
  },
  {
   "cell_type": "code",
   "execution_count": 66,
   "id": "23f5d047",
   "metadata": {},
   "outputs": [],
   "source": [
    "def display_linked_list(head):\n",
    "    current = head\n",
    "    while current:\n",
    "        print(current.val, end=' ')\n",
    "        if current.next:\n",
    "            print(' --> ', end=' ')\n",
    "        current = current.next"
   ]
  },
  {
   "cell_type": "code",
   "execution_count": 67,
   "id": "adc0a0f7",
   "metadata": {},
   "outputs": [
    {
     "name": "stdout",
     "output_type": "stream",
     "text": [
      "1\n",
      "2\n",
      "4\n"
     ]
    }
   ],
   "source": [
    "list1 = forward_linked_list(3)"
   ]
  },
  {
   "cell_type": "code",
   "execution_count": 68,
   "id": "cc3c2e9a",
   "metadata": {},
   "outputs": [
    {
     "name": "stdout",
     "output_type": "stream",
     "text": [
      "1  -->  2  -->  4 "
     ]
    }
   ],
   "source": [
    "display_linked_list(list1)"
   ]
  },
  {
   "cell_type": "code",
   "execution_count": 69,
   "id": "31bca4a8",
   "metadata": {},
   "outputs": [
    {
     "name": "stdout",
     "output_type": "stream",
     "text": [
      "1\n",
      "3\n",
      "4\n"
     ]
    }
   ],
   "source": [
    "list2 = forward_linked_list(3)"
   ]
  },
  {
   "cell_type": "code",
   "execution_count": 70,
   "id": "382cb709",
   "metadata": {},
   "outputs": [
    {
     "name": "stdout",
     "output_type": "stream",
     "text": [
      "1  -->  3  -->  4 "
     ]
    }
   ],
   "source": [
    "display_linked_list(list2)"
   ]
  },
  {
   "cell_type": "code",
   "execution_count": 71,
   "id": "0b1a9ade",
   "metadata": {},
   "outputs": [],
   "source": [
    "def mergeTwoLists(list1, list2):\n",
    "    if list1 == None and list2:\n",
    "        return list2\n",
    "    elif list1 and list2 == None:\n",
    "        return list1\n",
    "    elif list1 == None and list2 == None:\n",
    "        return None\n",
    "    \n",
    "    # merge lists\n",
    "    new_list = []\n",
    "    current1 = list1\n",
    "    while current1:\n",
    "        new_list.append(current1.val)\n",
    "        current1 = current1.next\n",
    "        \n",
    "    current2 = list2\n",
    "    while current2:\n",
    "        new_list.append(current2.val)\n",
    "        current2 = current2.next\n",
    "        \n",
    "    # sort list\n",
    "    new_list = sorted(new_list)\n",
    "    head = None\n",
    "    last = None\n",
    "    for item in new_list:\n",
    "        newNode = ListNode(item)\n",
    "        if head == None:\n",
    "            head = newNode\n",
    "            last = newNode\n",
    "        else:\n",
    "            last.next = newNode\n",
    "            last = newNode\n",
    "    return head"
   ]
  },
  {
   "cell_type": "code",
   "execution_count": 72,
   "id": "7c04543a",
   "metadata": {},
   "outputs": [
    {
     "name": "stdout",
     "output_type": "stream",
     "text": [
      "1  -->  1  -->  2  -->  3  -->  4  -->  4 "
     ]
    }
   ],
   "source": [
    "newlist = mergeTwoLists(list1, list2)\n",
    "display_linked_list(newlist)"
   ]
  },
  {
   "cell_type": "markdown",
   "id": "f907ac10",
   "metadata": {},
   "source": [
    "<a id='Remove Duplicates from Sorted Array'></a>\n",
    "### Remove Duplicates from Sorted Array"
   ]
  },
  {
   "cell_type": "code",
   "execution_count": 124,
   "id": "0ffb81a6",
   "metadata": {},
   "outputs": [],
   "source": [
    "def removeDuplicates(nums):\n",
    "    idx = 1\n",
    "    while True:\n",
    "        if len(nums) >= 2:\n",
    "            if nums[idx] == nums[idx-1]:\n",
    "                nums.pop(idx)\n",
    "                if idx > 1:\n",
    "                    idx = idx - 1\n",
    "            elif idx < len(nums) - 1:\n",
    "                idx = idx + 1\n",
    "                continue\n",
    "            else:\n",
    "                break\n",
    "        else:\n",
    "            break\n",
    "    return len(nums)"
   ]
  },
  {
   "cell_type": "code",
   "execution_count": 176,
   "id": "13f23b0f",
   "metadata": {},
   "outputs": [],
   "source": [
    "def removeDuplicates(nums):\n",
    "    last = 0\n",
    "    for i in range(1, len(nums)):\n",
    "        if nums[i] == nums[i - 1] or nums[i - 1] == '_' and nums[i] == nums[last]:\n",
    "            nums[i] = '_'\n",
    "        elif nums[i - 1] == '_':\n",
    "            nums[last + 1] = nums[i]\n",
    "            nums[i] = '_'\n",
    "            last = last + 1\n",
    "        else:\n",
    "            last = last + 1\n",
    "        \n",
    "    for _ in range(nums.count('_')):\n",
    "        nums.remove('_')\n",
    "    return len(nums)"
   ]
  },
  {
   "cell_type": "code",
   "execution_count": 190,
   "id": "d428b212",
   "metadata": {},
   "outputs": [],
   "source": [
    "def removeDuplicates(nums):\n",
    "    for i in range(len(nums)):\n",
    "        try:\n",
    "            for _ in range(nums.count(nums[i]) - 1):\n",
    "                nums.remove(nums[i])\n",
    "        except:\n",
    "            break\n",
    "            \n",
    "    return len(nums)"
   ]
  },
  {
   "cell_type": "code",
   "execution_count": 201,
   "id": "87d90da6",
   "metadata": {},
   "outputs": [],
   "source": [
    "def removeDuplicates(nums):\n",
    "    last = 1\n",
    "    for idx in range(len(nums) - 1):\n",
    "        if nums[idx] != nums[idx+1]:\n",
    "            nums[last] = nums[idx+1]\n",
    "            last += 1\n",
    "    return last"
   ]
  },
  {
   "cell_type": "markdown",
   "id": "7c2c5538",
   "metadata": {},
   "source": [
    "<a id='Remove Element'></a>\n",
    "### Remove Element"
   ]
  },
  {
   "cell_type": "code",
   "execution_count": 10,
   "id": "476892f6",
   "metadata": {},
   "outputs": [],
   "source": [
    "def removeElement(nums, val):\n",
    "    for _ in range(nums.count(val)):\n",
    "        nums.remove(val)\n",
    "    return len(nums)"
   ]
  },
  {
   "cell_type": "markdown",
   "id": "c938c09a",
   "metadata": {},
   "source": [
    "<a id='Search Insert Position'></a>\n",
    "### Search Insert Position"
   ]
  },
  {
   "cell_type": "code",
   "execution_count": 44,
   "id": "60decd38",
   "metadata": {},
   "outputs": [],
   "source": [
    "def searchInsert(nums, target):\n",
    "    for idx in range(len(nums)):\n",
    "        if target > nums[idx]:\n",
    "            continue\n",
    "        else:\n",
    "            return idx\n",
    "            \n",
    "    return idx + 1"
   ]
  },
  {
   "cell_type": "markdown",
   "id": "d63207c6",
   "metadata": {},
   "source": [
    "<a id='Length of Last Word'></a>\n",
    "### Length of Last Word"
   ]
  },
  {
   "cell_type": "code",
   "execution_count": 14,
   "id": "b38df8ad",
   "metadata": {},
   "outputs": [],
   "source": [
    "def lengthOfLastWord(s):\n",
    "    return len(s.split()[-1])"
   ]
  },
  {
   "cell_type": "markdown",
   "id": "e7cefc0a",
   "metadata": {},
   "source": [
    "<a id='Plus One'></a>\n",
    "### Plus One"
   ]
  },
  {
   "cell_type": "code",
   "execution_count": 74,
   "id": "5a12678f",
   "metadata": {},
   "outputs": [],
   "source": [
    "def plusOne(digits):\n",
    "    num = int(''.join([str(digit) for digit in digits])) + 1\n",
    "    digits = []\n",
    "    for digit in str(num):\n",
    "        digits.append(int(digit))\n",
    "    return digits"
   ]
  },
  {
   "cell_type": "code",
   "execution_count": 72,
   "id": "8fdf2619",
   "metadata": {},
   "outputs": [],
   "source": [
    "def plusOne(digits):\n",
    "    num = int(''.join([str(digit) for digit in digits])) + 1\n",
    "    return [int(digit) for digit in str(num)]"
   ]
  },
  {
   "cell_type": "markdown",
   "id": "794a8731",
   "metadata": {},
   "source": [
    "<a id='Add Binary'></a>\n",
    "### Add Binary"
   ]
  },
  {
   "cell_type": "code",
   "execution_count": 3,
   "id": "6d439c87",
   "metadata": {},
   "outputs": [],
   "source": [
    "def addBinary(a, b):\n",
    "        idx_a = 0\n",
    "        idx_b = 0\n",
    "        final_res = ''\n",
    "        remind = 0\n",
    "        a = a[::-1]\n",
    "        b = b[::-1]\n",
    "\n",
    "        def get_res(num_a=0, num_b=0, remind=0):\n",
    "            val = int(num_a) + int(num_b) + remind\n",
    "            if val > 1:\n",
    "                remind = 1\n",
    "            else:\n",
    "                remind = 0\n",
    "            return str(val % 2), remind\n",
    "\n",
    "        while idx_a < len(a) or idx_b < len(b):\n",
    "            res = ''\n",
    "            if idx_a < len(a) and idx_b < len(b):\n",
    "                res, remind = get_res(a[idx_a], b[idx_b], remind)\n",
    "                final_res = res + final_res\n",
    "                idx_a += 1\n",
    "                idx_b += 1\n",
    "            elif idx_a < len(a) and idx_b >= len(b):\n",
    "                res, remind = get_res(num_a=a[idx_a], remind=remind)\n",
    "                final_res = res + final_res\n",
    "                idx_a += 1\n",
    "            else:\n",
    "                res, remind = get_res(num_b = b[idx_b], remind=remind)\n",
    "                final_res = res + final_res\n",
    "                idx_b += 1\n",
    "\n",
    "        if remind == 1:\n",
    "            final_res = '1' + final_res\n",
    "        return final_res"
   ]
  },
  {
   "cell_type": "code",
   "execution_count": null,
   "id": "f10f1b3c",
   "metadata": {},
   "outputs": [],
   "source": [
    "def addBinary(a, b):\n",
    "    idx_a = len(a) - 1\n",
    "    idx_b = len(b) - 1\n",
    "    final_res = ''\n",
    "    carry = 0\n",
    "\n",
    "    while idx_a >= 0 or idx_b >= 0:\n",
    "            sum = carry\n",
    "            if idx_a >= 0:\n",
    "                sum += int(a[idx_a])\n",
    "            if idx_b >= 0:\n",
    "                sum += int(b[idx_b])\n",
    "\n",
    "            idx_a, idx_b = idx_a - 1, idx_b - 1\n",
    "\n",
    "            carry = 1 if sum > 1 else 0\n",
    "            final_res += str(sum % 2)\n",
    "\n",
    "    if carry != 0:\n",
    "        final_res += str(carry)\n",
    "    return final_res[::-1]"
   ]
  },
  {
   "cell_type": "markdown",
   "id": "daef9930",
   "metadata": {},
   "source": [
    "<a id='Sqrt(x)'></a>\n",
    "### Sqrt(x)"
   ]
  },
  {
   "cell_type": "code",
   "execution_count": null,
   "id": "4123677d",
   "metadata": {},
   "outputs": [],
   "source": [
    "# using Newton Raphson Method\n",
    "\n",
    "def mySqrt(x):\n",
    "    x_0 = 1\n",
    "    while True:\n",
    "        x_1 = x_0 - ((x_0**2 - x)/(2 * x_0))\n",
    "        if abs(x_1 - x_0) < 1e-5:\n",
    "            break\n",
    "        x_0 = x_1\n",
    "    return int(x_1)"
   ]
  },
  {
   "cell_type": "markdown",
   "id": "6dba2b74",
   "metadata": {},
   "source": [
    "<a id='Climbing Stairs'></a>\n",
    "### Climbing Stairs"
   ]
  },
  {
   "cell_type": "code",
   "execution_count": null,
   "id": "a81c10fc",
   "metadata": {},
   "outputs": [],
   "source": [
    "def climbStairs(n):\n",
    "    if n == 1:\n",
    "        return 1\n",
    "    if n == 2:\n",
    "        return 2\n",
    "    if n == 3:\n",
    "        return 3\n",
    "    \n",
    "    res = [2, 3, 0]\n",
    "        \n",
    "    for _ in range(n-3):\n",
    "        res[2] = res[0] + res[1]\n",
    "        res[0] = res[1]\n",
    "        res[1] = res[2]\n",
    "    return res[2]"
   ]
  },
  {
   "cell_type": "markdown",
   "id": "e532fecc",
   "metadata": {},
   "source": [
    "<a id='Remove Duplicates from Sorted List'></a>\n",
    "### Remove Duplicates from Sorted List"
   ]
  },
  {
   "cell_type": "code",
   "execution_count": 55,
   "id": "dd17aa28",
   "metadata": {},
   "outputs": [],
   "source": [
    "def deleteDuplicates(self, head: ListNode) -> ListNode:\n",
    "    \"\"\"head: head of sorted linked list\n",
    "    return linked list with no duplicates\"\"\"\n",
    "    if head == None:\n",
    "        return head\n",
    "    \n",
    "    newNode = ListNode(head.val)\n",
    "    newlist = newNode\n",
    "    last = newNode\n",
    "    current = head.next\n",
    "    while current != None:\n",
    "        if current.val != last.val:\n",
    "            newNode = ListNode(current.val)\n",
    "            last.next = newNode\n",
    "            last = newNode\n",
    "        current = current.next\n",
    "    return newlist"
   ]
  },
  {
   "cell_type": "markdown",
   "id": "cd1a51e6-a405-4167-884a-919f70f70091",
   "metadata": {},
   "source": [
    "<a id='Merge Sorted Array'></a>\n",
    "### Merge Sorted Array"
   ]
  },
  {
   "cell_type": "code",
   "execution_count": 33,
   "id": "e52f3d00-a51d-482a-83c1-cd25ab699ea6",
   "metadata": {},
   "outputs": [],
   "source": [
    "def merge(nums1, m, nums2, n):\n",
    "    for idx, val in enumerate(nums2):\n",
    "        nums1[m+idx] = val\n",
    "    nums1.sort()"
   ]
  },
  {
   "cell_type": "markdown",
   "id": "c4db9445-141a-4778-ae04-056c26626696",
   "metadata": {},
   "source": [
    "<a id='q_28'></a>\n",
    "### 28. Find the Index of the First Occurrence in a String"
   ]
  },
  {
   "cell_type": "code",
   "execution_count": 5,
   "id": "40f644c2-43a1-4c31-b5ef-fb2e081e45c7",
   "metadata": {},
   "outputs": [],
   "source": [
    "def strStr(haystack, needle):\n",
    "    \"\"\"\n",
    "    :type haystack: str\n",
    "    :type needle: str\n",
    "    :rtype: int\n",
    "    \"\"\"\n",
    "    return haystack.find(needle)"
   ]
  },
  {
   "cell_type": "code",
   "execution_count": 6,
   "id": "d34893b8-8829-44e2-bbfe-f669bb871a02",
   "metadata": {},
   "outputs": [],
   "source": [
    "# test\n",
    "haystack = \"sadbutsad\" \n",
    "needle = \"sad\"\n",
    "assert strStr(haystack, needle) == 0"
   ]
  },
  {
   "cell_type": "code",
   "execution_count": 7,
   "id": "63cd4c90-64a1-4113-837a-14e0b5517a82",
   "metadata": {},
   "outputs": [],
   "source": [
    "haystack = \"leetcode\" \n",
    "needle = \"leeto\"\n",
    "assert strStr(haystack, needle) == -1"
   ]
  },
  {
   "cell_type": "markdown",
   "id": "5fa68080-dc8a-448c-8ba0-a63c0740baa6",
   "metadata": {},
   "source": [
    "<a id='bt_inorder_traversal'></a>\n",
    "### Binary Tree Inorder Traversal"
   ]
  },
  {
   "cell_type": "code",
   "execution_count": 1,
   "id": "4d7acd7a-9f2b-432f-a8c6-75a835d15690",
   "metadata": {},
   "outputs": [],
   "source": [
    "# Definition for a binary tree node.\n",
    "class TreeNode:\n",
    "    def __init__(self, val=0, left=None, right=None):\n",
    "     self.val = val\n",
    "     self.left = left\n",
    "     self.right = right"
   ]
  },
  {
   "cell_type": "code",
   "execution_count": 24,
   "id": "3404d983-bebc-4750-99ad-5fb086814b46",
   "metadata": {},
   "outputs": [],
   "source": [
    "# inorderTraversal (left - root - right)\n",
    "def inorderTraversal(root):\n",
    "    result = []\n",
    "    if not root:\n",
    "        return []\n",
    "    result += inorderTraversal(root.left)\n",
    "    result.append(root.val)\n",
    "    result += inorderTraversal(root.right)\n",
    "    return result"
   ]
  },
  {
   "cell_type": "code",
   "execution_count": 25,
   "id": "c206bec1-3099-4b97-91cf-f891e2ef485c",
   "metadata": {},
   "outputs": [
    {
     "data": {
      "text/plain": [
       "[1, 3, 2]"
      ]
     },
     "execution_count": 25,
     "metadata": {},
     "output_type": "execute_result"
    }
   ],
   "source": [
    "root = TreeNode(val=1, right = TreeNode(val=2, left=TreeNode(val=3)))\n",
    "inorderTraversal(root)"
   ]
  },
  {
   "cell_type": "code",
   "execution_count": 27,
   "id": "01313c93-c667-4f7b-a368-10b3b7f88839",
   "metadata": {},
   "outputs": [
    {
     "data": {
      "text/plain": [
       "[]"
      ]
     },
     "execution_count": 27,
     "metadata": {},
     "output_type": "execute_result"
    }
   ],
   "source": [
    "inorderTraversal(None)"
   ]
  },
  {
   "cell_type": "code",
   "execution_count": 28,
   "id": "71bfd5ad-b00b-463e-a57e-d7084a08baff",
   "metadata": {},
   "outputs": [
    {
     "data": {
      "text/plain": [
       "[1]"
      ]
     },
     "execution_count": 28,
     "metadata": {},
     "output_type": "execute_result"
    }
   ],
   "source": [
    "root = TreeNode(val=1)\n",
    "inorderTraversal(root)"
   ]
  },
  {
   "cell_type": "markdown",
   "id": "c8ae9f60-0f28-4fc6-9c98-a6071e98277d",
   "metadata": {},
   "source": [
    "<a id='Same_Tree'></a>\n",
    "### Same Tree"
   ]
  },
  {
   "cell_type": "code",
   "execution_count": 25,
   "id": "b849f04f-ce9c-4647-95c5-54266fcb3a70",
   "metadata": {},
   "outputs": [],
   "source": [
    "class TreeNode:\n",
    "    def __init__(self, val=0, left=None, right=None):\n",
    "        self.val = val\n",
    "        self.left = left\n",
    "        self.right = right"
   ]
  },
  {
   "cell_type": "code",
   "execution_count": 47,
   "id": "5d1cd32b-3e7c-4488-bb8d-a683625b402e",
   "metadata": {},
   "outputs": [],
   "source": [
    "def isSameTree(p, q) -> bool:\n",
    "    if not p and not q:\n",
    "        return True\n",
    "    if not p or not q:\n",
    "        return False\n",
    "\n",
    "    # check the root \n",
    "    if p.val == q.val:\n",
    "        # check the left and the right subtrees if the roots are equal\n",
    "        return isSameTree(p.left, q.left) and isSameTree(p.right, q.right)\n",
    "    return False"
   ]
  },
  {
   "cell_type": "code",
   "execution_count": 49,
   "id": "631475cc-dfb8-4a08-b50a-cf2367e013e0",
   "metadata": {},
   "outputs": [
    {
     "data": {
      "text/plain": [
       "False"
      ]
     },
     "execution_count": 49,
     "metadata": {},
     "output_type": "execute_result"
    }
   ],
   "source": [
    "n1 = TreeNode(val=1, right = TreeNode(val=3), left=TreeNode(val=2))\n",
    "n2 = TreeNode(val=6, right = TreeNode(val=3), left=TreeNode(val=2))\n",
    "\n",
    "isSameTree(n1, n2)"
   ]
  },
  {
   "cell_type": "markdown",
   "id": "2f2dd587-b839-414b-b85f-52133f0da25a",
   "metadata": {},
   "source": [
    "<a id='Symmetric_Tree'></a>\n",
    "### Symmetric Tree"
   ]
  },
  {
   "cell_type": "code",
   "execution_count": 4,
   "id": "4f1cc7cd-322f-4851-9a28-5e79097b13b1",
   "metadata": {},
   "outputs": [],
   "source": [
    "class TreeNode:\n",
    "    def __init__(self, val=0, left=None, right=None):\n",
    "        self.val = val\n",
    "        self.left = left\n",
    "        self.right = right"
   ]
  },
  {
   "cell_type": "code",
   "execution_count": 57,
   "id": "c5b62b81-cda1-4814-a6bf-2810e4ca0ebc",
   "metadata": {},
   "outputs": [],
   "source": [
    "def isMirror(left, right):\n",
    "    if not left and not right:\n",
    "        return True\n",
    "    if not left or not right:\n",
    "        return False\n",
    "    return left.val == right.val and isMirror(left.left, right.right) and isMirror(left.right, right.left)\n",
    "    \n",
    "def isSymmetric(root) -> bool:\n",
    "    if not root:\n",
    "        return True\n",
    "    return isMirror(root.left, root.right)"
   ]
  },
  {
   "cell_type": "code",
   "execution_count": 66,
   "id": "ba795e79-d80f-4c29-bf4d-c9ffc8dba429",
   "metadata": {},
   "outputs": [],
   "source": [
    "root = TreeNode(val=1, left=TreeNode(val=2, right=TreeNode(val=4)), \n",
    "                       right=TreeNode(val=2, right=TreeNode(val=3)))"
   ]
  },
  {
   "cell_type": "code",
   "execution_count": 67,
   "id": "81bf8414-525e-4670-a633-a14dd6a8ca93",
   "metadata": {},
   "outputs": [
    {
     "data": {
      "text/plain": [
       "False"
      ]
     },
     "execution_count": 67,
     "metadata": {},
     "output_type": "execute_result"
    }
   ],
   "source": [
    "isSymmetric(root)"
   ]
  },
  {
   "cell_type": "markdown",
   "id": "07e8a158-6cc8-4882-8bf3-5caca884c80e",
   "metadata": {},
   "source": [
    "<a id='Maximum_Depth_of_Binary_Tree'></a>\n",
    "### Maximum Depth of Binary Tree"
   ]
  },
  {
   "cell_type": "code",
   "execution_count": 3,
   "id": "36bb93d3-97fd-4ee1-b441-7d9ee88187bb",
   "metadata": {},
   "outputs": [],
   "source": [
    "def maxDepth(root) -> int:\n",
    "    if not root:\n",
    "        return 0\n",
    "    return max(maxDepth(root.left), maxDepth(root.right)) + 1"
   ]
  },
  {
   "cell_type": "code",
   "execution_count": 1,
   "id": "0ea263a1-c3b3-4221-8210-a53208d9dbce",
   "metadata": {},
   "outputs": [
    {
     "data": {
      "text/plain": [
       "2"
      ]
     },
     "execution_count": 1,
     "metadata": {},
     "output_type": "execute_result"
    }
   ],
   "source": [
    "max(1, 2)"
   ]
  },
  {
   "cell_type": "markdown",
   "id": "5c8a2cf3-0f2f-4a23-ad55-8139a96d9cf7",
   "metadata": {},
   "source": [
    "<a id='Convert__Array_to_Binary_Search_Tree'></a>\n",
    "### Convert Sorted Array to Binary Search Tree"
   ]
  },
  {
   "cell_type": "code",
   "execution_count": null,
   "id": "90b5c310-ce19-477a-a481-4499205ed546",
   "metadata": {},
   "outputs": [],
   "source": [
    "class TreeNode:\n",
    "    def __init__(self, val=0, left=None, right=None):\n",
    "        self.val = val\n",
    "        self.left = left\n",
    "        self.right = right"
   ]
  },
  {
   "cell_type": "code",
   "execution_count": 4,
   "id": "3a9a0fbf-0620-41b5-b5b9-4f54c83804ce",
   "metadata": {},
   "outputs": [],
   "source": [
    "def sortedArrayToBST(nums):\n",
    "    if not nums:\n",
    "        return None\n",
    "    mid = len(nums) // 2\n",
    "    root = TreeNode(val=nums[mid])\n",
    "    root.left = sortedArrayToBST(nums[:mid])\n",
    "    root.right = sortedArrayToBST(nums[mid + 1:])\n",
    "    return root"
   ]
  },
  {
   "cell_type": "markdown",
   "id": "6717adaa-53bf-4b7e-9849-8c179f1201a1",
   "metadata": {},
   "source": [
    "<a id='Balanced_Binary_Tree'></a>\n",
    "### Balanced_Binary_Tree"
   ]
  },
  {
   "cell_type": "code",
   "execution_count": 4,
   "id": "943bc901-cbe4-4904-a05c-9efb0b73a512",
   "metadata": {},
   "outputs": [],
   "source": [
    "class TreeNode:\n",
    "    def __init__(self, val=0, left=None, right=None):\n",
    "        self.val = val\n",
    "        self.left = left\n",
    "        self.right = right"
   ]
  },
  {
   "cell_type": "code",
   "execution_count": 1,
   "id": "daddc5f0-4f0a-4947-873b-165bac22670c",
   "metadata": {},
   "outputs": [],
   "source": [
    "def maxDepth(root):\n",
    "    if not root:\n",
    "        return 0\n",
    "    return max(maxDepth(root.left), maxDepth(root.right)) + 1"
   ]
  },
  {
   "cell_type": "code",
   "execution_count": 11,
   "id": "cac9675a-9720-41d4-8802-9f549591a973",
   "metadata": {},
   "outputs": [],
   "source": [
    "def isBalanced(root) -> bool:\n",
    "    if not root:\n",
    "        return True\n",
    "    left_max_depth = maxDepth(root.left)\n",
    "    right_max_depth = maxDepth(root.right)\n",
    "    \n",
    "    # Check if the current node is balanced and if both subtrees are balanced\n",
    "    return abs(left_max_depth - right_max_depth) <= 1 and \\\n",
    "           isBalanced(root.left) and \\\n",
    "           isBalanced(root.right)"
   ]
  },
  {
   "cell_type": "code",
   "execution_count": 12,
   "id": "e8b26da1-8e00-44fb-8172-75de667e1a01",
   "metadata": {},
   "outputs": [
    {
     "data": {
      "text/plain": [
       "True"
      ]
     },
     "execution_count": 12,
     "metadata": {},
     "output_type": "execute_result"
    }
   ],
   "source": [
    "root = TreeNode(val=3, left=TreeNode(val=9), right=TreeNode(val=20, left=TreeNode(val=15), right=TreeNode(val=7)))\n",
    "isBalanced(root)"
   ]
  },
  {
   "cell_type": "code",
   "execution_count": 13,
   "id": "a6317991-ce5c-44a3-86f1-4df8eccfd2aa",
   "metadata": {},
   "outputs": [
    {
     "data": {
      "text/plain": [
       "False"
      ]
     },
     "execution_count": 13,
     "metadata": {},
     "output_type": "execute_result"
    }
   ],
   "source": [
    "root = TreeNode(val=1, left=TreeNode(val=2, left=TreeNode(val=3, left=TreeNode(val=4), \n",
    "                                                                 right=TreeNode(val=4)),\n",
    "                                            right=TreeNode(val=3)), \n",
    "                       right=TreeNode(val=2))\n",
    "isBalanced(root)"
   ]
  },
  {
   "cell_type": "markdown",
   "id": "ff2e917d-8b2e-4d5f-944e-ab41c50e57fb",
   "metadata": {},
   "source": [
    "<a id='Minimum_Depth_of_Binary_Tree'></a>\n",
    "### Minimum_Depth_of_Binary_Tree"
   ]
  },
  {
   "cell_type": "code",
   "execution_count": 15,
   "id": "fab92008-1555-454a-8d2e-bf5666fb7229",
   "metadata": {},
   "outputs": [],
   "source": [
    "def minDepth(root) -> int:\n",
    "    if not root:\n",
    "        return 0\n",
    "        \n",
    "    if root.left and not root.right:\n",
    "        return minDepth(root.left) + 1\n",
    "    elif root.right and not root.left:\n",
    "        return minDepth(root.right) + 1\n",
    "    else:\n",
    "        return min(minDepth(root.left) + 1, minDepth(root.right) + 1)"
   ]
  },
  {
   "cell_type": "code",
   "execution_count": 17,
   "id": "7ce3a833-8c79-452d-a6e7-aa4c34dad0bd",
   "metadata": {},
   "outputs": [],
   "source": [
    "class TreeNode:\n",
    "    def __init__(self, val=0, left=None, right=None):\n",
    "        self.val = val\n",
    "        self.left = left\n",
    "        self.right = right"
   ]
  },
  {
   "cell_type": "code",
   "execution_count": 19,
   "id": "901041fe-0d1c-49c4-8ebd-6279cfbb61cb",
   "metadata": {},
   "outputs": [],
   "source": [
    "def build_tree(level_order):\n",
    "    if not level_order:\n",
    "        return None\n",
    "    \n",
    "    # Create the root node\n",
    "    root = TreeNode(level_order[0])\n",
    "    queue = [root]\n",
    "    i = 1\n",
    "    \n",
    "    # Use a queue to construct the tree level by level\n",
    "    while queue and i < len(level_order):\n",
    "        current_node = queue.pop(0)\n",
    "        \n",
    "        # Left child\n",
    "        if i < len(level_order) and level_order[i] is not None:\n",
    "            current_node.left = TreeNode(level_order[i])\n",
    "            queue.append(current_node.left)\n",
    "        i += 1\n",
    "        \n",
    "        # Right child\n",
    "        if i < len(level_order) and level_order[i] is not None:\n",
    "            current_node.right = TreeNode(level_order[i])\n",
    "            queue.append(current_node.right)\n",
    "        i += 1\n",
    "    \n",
    "    return root"
   ]
  },
  {
   "cell_type": "code",
   "execution_count": 20,
   "id": "82914060-d935-4fa8-b253-c2fc4b3ee36d",
   "metadata": {},
   "outputs": [
    {
     "data": {
      "text/plain": [
       "2"
      ]
     },
     "execution_count": 20,
     "metadata": {},
     "output_type": "execute_result"
    }
   ],
   "source": [
    "root = build_tree([3,9,20,None,None,15,7])\n",
    "\n",
    "minDepth(root)"
   ]
  },
  {
   "cell_type": "code",
   "execution_count": 25,
   "id": "8731f73d-4688-4055-b072-126bfe85c23f",
   "metadata": {},
   "outputs": [
    {
     "data": {
      "text/plain": [
       "5"
      ]
     },
     "execution_count": 25,
     "metadata": {},
     "output_type": "execute_result"
    }
   ],
   "source": [
    "root = build_tree([2,None,3,None,4,None,5,None,6])\n",
    "minDepth(root)"
   ]
  },
  {
   "cell_type": "markdown",
   "id": "f0f0b461-93da-4f2c-9adf-1b52914095dd",
   "metadata": {},
   "source": [
    "<a id='Path_Sum'></a>\n",
    "### Path_Sum"
   ]
  },
  {
   "cell_type": "code",
   "execution_count": 50,
   "id": "0ffe1d19-6a69-4c89-8e15-d244d62efa04",
   "metadata": {},
   "outputs": [],
   "source": [
    "root = build_tree([5,4,8,11,None,13,4,7,2,None,None,None,1])\n",
    "#root = build_tree([1,2,3])"
   ]
  },
  {
   "cell_type": "code",
   "execution_count": 52,
   "id": "6652b59e-b83d-4429-8443-0b997a0b0ee6",
   "metadata": {},
   "outputs": [],
   "source": [
    "def hasPathSum(root, targetSum: int) -> bool:\n",
    "    if not root:\n",
    "        return False\n",
    "    if not root.left and not root.right:\n",
    "        return targetSum == root.val\n",
    "\n",
    "    return hasPathSum(root.left, targetSum - root.val) or hasPathSum(root.right, targetSum - root.val)"
   ]
  },
  {
   "cell_type": "code",
   "execution_count": 54,
   "id": "a70a705f-fa9d-4aba-b031-b55841b2100f",
   "metadata": {},
   "outputs": [
    {
     "data": {
      "text/plain": [
       "True"
      ]
     },
     "execution_count": 54,
     "metadata": {},
     "output_type": "execute_result"
    }
   ],
   "source": [
    "hasPathSum(root, 22)"
   ]
  },
  {
   "cell_type": "markdown",
   "id": "620c4071-654f-495b-9f7b-0618ab95f2d8",
   "metadata": {},
   "source": [
    "<a id=\"Pascal's_Triangle\"></a>\n",
    "### Pascal's_Triangle"
   ]
  },
  {
   "cell_type": "code",
   "execution_count": 43,
   "id": "d304a5f6-f10b-498a-b966-2f914fe3b697",
   "metadata": {},
   "outputs": [],
   "source": [
    "def generate(numRows: int) -> list[list[int]]:\n",
    "    triangle = []\n",
    "    for i in range(numRows):\n",
    "        triangle.append([1])\n",
    "        for j in range(1, i + 1):\n",
    "            if i == j:\n",
    "                triangle[i].append(1)\n",
    "            else:\n",
    "                triangle[i].append(triangle[i-1][j] + triangle[i-1][j-1])\n",
    "    return triangle"
   ]
  },
  {
   "cell_type": "code",
   "execution_count": 51,
   "id": "f714f53c-cf8c-42de-a1a2-f211560453d7",
   "metadata": {},
   "outputs": [
    {
     "data": {
      "text/plain": [
       "[[1], [1, 1], [1, 2, 1], [1, 3, 3, 1], [1, 4, 6, 4, 1]]"
      ]
     },
     "execution_count": 51,
     "metadata": {},
     "output_type": "execute_result"
    }
   ],
   "source": [
    "generate(5)"
   ]
  },
  {
   "cell_type": "markdown",
   "id": "a08702f4-24ce-4623-aad5-6da0190149cd",
   "metadata": {},
   "source": [
    "<a id=\"Pascal's_Triangle_II\"></a>\n",
    "### Pascal's_Triangle_II"
   ]
  },
  {
   "cell_type": "code",
   "execution_count": 7,
   "id": "3d714938-d3fb-4aca-9409-24ea6cdb36a8",
   "metadata": {},
   "outputs": [],
   "source": [
    "def getRow(rowIndex: int) -> list[int]:\n",
    "    triangle = []\n",
    "    for i in range(rowIndex + 1):\n",
    "        triangle.append([1])\n",
    "        for j in range(1, i + 1):\n",
    "            if i == j:\n",
    "                triangle[i].append(1)\n",
    "            else:\n",
    "                triangle[i].append(triangle[i-1][j] + triangle[i-1][j-1])\n",
    "    return triangle[rowIndex]"
   ]
  },
  {
   "cell_type": "code",
   "execution_count": 13,
   "id": "99ff1d96-7a3c-4d46-bafa-ee8d6e81d2f5",
   "metadata": {},
   "outputs": [
    {
     "data": {
      "text/plain": [
       "[1, 1]"
      ]
     },
     "execution_count": 13,
     "metadata": {},
     "output_type": "execute_result"
    }
   ],
   "source": [
    "getRow(1)"
   ]
  },
  {
   "cell_type": "markdown",
   "id": "a829f891-b3c2-4b2e-8f68-0f074b9abf5d",
   "metadata": {},
   "source": [
    "<a id='Valid_Palindrome'></a>\n",
    "### Valid_Palindrome"
   ]
  },
  {
   "cell_type": "code",
   "execution_count": 125,
   "id": "bf0bce3e-6d5f-455d-b7af-011906f7eeb0",
   "metadata": {},
   "outputs": [],
   "source": [
    "def isPalindrome(s: str) -> bool:\n",
    "    pattern = re.compile(r'[A-Za-z0-9]')\n",
    "    res = re.findall(pattern, s.lower())\n",
    "    res = ''.join(res)\n",
    "    if res == res[::-1]:\n",
    "        return True\n",
    "    return False"
   ]
  },
  {
   "cell_type": "code",
   "execution_count": 131,
   "id": "f850bc9a-9856-4498-ac77-af52ac739801",
   "metadata": {},
   "outputs": [
    {
     "data": {
      "text/plain": [
       "True"
      ]
     },
     "execution_count": 131,
     "metadata": {},
     "output_type": "execute_result"
    }
   ],
   "source": [
    "s = \"A man, a plan, a canal: Panama\"\n",
    "#s = \"race a car\"\n",
    "#s = \" \"\n",
    "isPalindrome(s)"
   ]
  },
  {
   "cell_type": "code",
   "execution_count": 161,
   "id": "58470b03-fa96-4616-bf5a-ad8e9557c285",
   "metadata": {},
   "outputs": [],
   "source": [
    "import re\n",
    "def isPalindrome(s: str) -> bool:\n",
    "    pattern = re.compile(r'[A-Za-z0-9]')\n",
    "    res = re.findall(pattern, s.lower())\n",
    "    res = ''.join(res)\n",
    "    \n",
    "    if res == \"\":\n",
    "        return True\n",
    "        \n",
    "    size = len(res)\n",
    "    start = 0\n",
    "    end = size - 1\n",
    "    while start < end:\n",
    "        if res[start] == res[end]:\n",
    "            start += 1\n",
    "            end -= 1\n",
    "        else:\n",
    "            return False\n",
    "            \n",
    "    return True"
   ]
  },
  {
   "cell_type": "code",
   "execution_count": 167,
   "id": "fc273cd6-7ee8-4497-b283-4d389009f4b0",
   "metadata": {},
   "outputs": [
    {
     "data": {
      "text/plain": [
       "True"
      ]
     },
     "execution_count": 167,
     "metadata": {},
     "output_type": "execute_result"
    }
   ],
   "source": [
    "s = \"A man, a plan, a canal: Panama\"\n",
    "#s = \"race a car\"\n",
    "#s = \" \"\n",
    "isPalindrome(s)"
   ]
  },
  {
   "cell_type": "markdown",
   "id": "b886b2f4-281c-4657-ad69-c58aa33e16b4",
   "metadata": {},
   "source": [
    "<a id='Single_Number'></a>\n",
    "### Single_Number"
   ]
  },
  {
   "cell_type": "code",
   "execution_count": 19,
   "id": "0e860b0b-f82b-4220-b984-831878d23a30",
   "metadata": {},
   "outputs": [],
   "source": [
    "def singleNumber(nums: list[int]) -> int:\n",
    "    uniqueNum = 0\n",
    "    \n",
    "    for n in nums:\n",
    "        uniqueNum ^= n\n",
    "        \n",
    "    return uniqueNum"
   ]
  },
  {
   "cell_type": "code",
   "execution_count": 21,
   "id": "dc926e5b-473c-4c88-b45e-aef73fea77db",
   "metadata": {},
   "outputs": [
    {
     "data": {
      "text/plain": [
       "4"
      ]
     },
     "execution_count": 21,
     "metadata": {},
     "output_type": "execute_result"
    }
   ],
   "source": [
    "#nums = [2,2,1]\n",
    "nums = [4,1,2,1,2]\n",
    "singleNumber(nums)"
   ]
  },
  {
   "cell_type": "markdown",
   "id": "66408fce-6c1b-44fd-b58c-6f463f02f2d3",
   "metadata": {},
   "source": [
    "<a id='Linked_List_Cycle'></a>\n",
    "### Linked_List_Cycle"
   ]
  },
  {
   "cell_type": "code",
   "execution_count": 1,
   "id": "ff3d15ea-1011-476d-8e15-fedb9a4693e5",
   "metadata": {},
   "outputs": [],
   "source": [
    "# Definition for singly-linked list.\n",
    "class ListNode:\n",
    "    def __init__(self, x):\n",
    "        self.val = x\n",
    "        self.next = None\n"
   ]
  },
  {
   "cell_type": "code",
   "execution_count": 11,
   "id": "e155df49-aec1-44ae-9e96-40f78d6790c4",
   "metadata": {},
   "outputs": [],
   "source": [
    "def hasCycle(head: ListNode) -> bool:\n",
    "    nodes = []\n",
    "    while head:\n",
    "        if head in nodes:\n",
    "            return False\n",
    "        nodes.append(head)\n",
    "        head = head.next\n",
    "    return True"
   ]
  },
  {
   "cell_type": "code",
   "execution_count": 21,
   "id": "f69905e8-db5b-4b87-a02b-d37850014f12",
   "metadata": {},
   "outputs": [],
   "source": [
    "def hasCycle(head: ListNode) -> bool:\n",
    "    fast = head\n",
    "    slow = head\n",
    "    while fast and fast.next:\n",
    "        fast = fast.next.next\n",
    "        slow = slow.next\n",
    "        if fast == slow:\n",
    "            return True\n",
    "    return False"
   ]
  },
  {
   "cell_type": "code",
   "execution_count": 23,
   "id": "5d4e16dd-6fbf-4357-804b-6ff5dc3a4d6b",
   "metadata": {},
   "outputs": [
    {
     "data": {
      "text/plain": [
       "True"
      ]
     },
     "execution_count": 23,
     "metadata": {},
     "output_type": "execute_result"
    }
   ],
   "source": [
    "head = ListNode(3)\n",
    "head.next = ListNode(2)\n",
    "head.next.next = ListNode(0)\n",
    "head.next.next.next = ListNode(-4)\n",
    "head.next.next.next.next = head.next\n",
    "hasCycle(head)"
   ]
  },
  {
   "cell_type": "markdown",
   "id": "2a2f141d-ef48-4012-a3ee-b1890b6fa64e",
   "metadata": {},
   "source": [
    "<a id='Binary_Tree_Preorder_Traversal'></a>\n",
    "### Binary_Tree_Preorder_Traversal"
   ]
  },
  {
   "cell_type": "code",
   "execution_count": 41,
   "id": "bcae9ca4-29c9-4cde-815c-5bfafd0d1aff",
   "metadata": {},
   "outputs": [],
   "source": [
    "def preorderTraversal(root) -> list[int]:\n",
    "    if not root:\n",
    "        return []\n",
    "    lst = []\n",
    "    lst.append(root.val)\n",
    "    lst += preorderTraversal(root.left)\n",
    "    lst += preorderTraversal(root.right)\n",
    "    return lst"
   ]
  },
  {
   "cell_type": "code",
   "execution_count": 43,
   "id": "edd5d0ce-d5a3-43da-b402-fe884b5fdc6c",
   "metadata": {},
   "outputs": [
    {
     "data": {
      "text/plain": [
       "[1, 2, 4, 5, 6, 7, 3, 8, 9]"
      ]
     },
     "execution_count": 43,
     "metadata": {},
     "output_type": "execute_result"
    }
   ],
   "source": [
    "root = build_tree([1,2,3,4,5,None,8,None,None,6,7,9])\n",
    "preorderTraversal(root)"
   ]
  },
  {
   "cell_type": "markdown",
   "id": "6b968b35-14f8-4744-a338-2f3fbd4ac5f7",
   "metadata": {},
   "source": [
    "<a id='Binary_Tree_Postorder_Traversal'></a>\n",
    "### Binary_Tree_Postorder_Traversal"
   ]
  },
  {
   "cell_type": "code",
   "execution_count": 49,
   "id": "4b4c4e5b-5772-450a-ad22-83c6c0edf964",
   "metadata": {},
   "outputs": [],
   "source": [
    "def postorderTraversal(root: TreeNode) -> list[int]:\n",
    "    if not root:\n",
    "        return []\n",
    "\n",
    "    lst = []\n",
    "    lst += postorderTraversal(root.left)\n",
    "    lst += postorderTraversal(root.right)\n",
    "    lst.append(root.val)\n",
    "    return lst"
   ]
  },
  {
   "cell_type": "code",
   "execution_count": 51,
   "id": "6a832eed-9379-408c-ac03-2b8718e00d70",
   "metadata": {},
   "outputs": [
    {
     "data": {
      "text/plain": [
       "[4, 6, 7, 5, 2, 9, 8, 3, 1]"
      ]
     },
     "execution_count": 51,
     "metadata": {},
     "output_type": "execute_result"
    }
   ],
   "source": [
    "root = build_tree([1,2,3,4,5,None,8,None,None,6,7,9])\n",
    "postorderTraversal(root)"
   ]
  },
  {
   "cell_type": "markdown",
   "id": "56a50357-302a-43fa-9183-a60a9b19f914",
   "metadata": {},
   "source": [
    "<a id='Intersection_of_Two_Linked_Lists'></a>\n",
    "### Intersection_of_Two_Linked_Lists"
   ]
  },
  {
   "cell_type": "code",
   "execution_count": 60,
   "id": "4f73e4bb-38c7-42ec-9a40-4668d64aed84",
   "metadata": {},
   "outputs": [],
   "source": [
    "def getIntersectionNode(headA: ListNode, headB: ListNode) -> ListNode:\n",
    "    lst = []\n",
    "    while headA:\n",
    "        lst.append(headA)\n",
    "        headA = headA.next\n",
    "   \n",
    "    while headB:\n",
    "        if headB in lst:\n",
    "            return headB\n",
    "        headB = headB.next\n",
    "    return None"
   ]
  },
  {
   "cell_type": "code",
   "execution_count": 76,
   "id": "7f17b66d-4a9e-4806-801e-6f4dab24e6b9",
   "metadata": {},
   "outputs": [],
   "source": [
    "def getIntersectionNode(headA: ListNode, headB: ListNode) -> ListNode:\n",
    "    if headA is None or headB is None:\n",
    "        return None\n",
    "    pA, pB = headA, headB\n",
    "    while pA != pB:\n",
    "        pA = headB if pA is None else pA.next\n",
    "        pB = headA if pB is None else pB.next\n",
    "    return pB"
   ]
  },
  {
   "cell_type": "code",
   "execution_count": 78,
   "id": "73dae778-c18b-4653-995c-de50e4954f65",
   "metadata": {},
   "outputs": [
    {
     "data": {
      "text/plain": [
       "<__main__.ListNode at 0x29e6d2811f0>"
      ]
     },
     "execution_count": 78,
     "metadata": {},
     "output_type": "execute_result"
    }
   ],
   "source": [
    "head1 = ListNode(1)\n",
    "head2 = ListNode(1)\n",
    "\n",
    "head2.next = head1\n",
    "\n",
    "intersect = getIntersectionNode(head1, head2)\n",
    "intersect"
   ]
  },
  {
   "cell_type": "markdown",
   "id": "1a9641b7-5149-4a60-a5bd-de7fb636b615",
   "metadata": {},
   "source": [
    "<a id='Excel_Sheet_Column_Title'></a>\n",
    "### Excel_Sheet_Column_Title"
   ]
  },
  {
   "cell_type": "code",
   "execution_count": 41,
   "id": "afe1d888-77bf-46a1-be6b-b80bb4853266",
   "metadata": {},
   "outputs": [],
   "source": [
    "def convertToTitle(columnNumber) -> str:\n",
    "    excel_column = \"\"\n",
    "    while columnNumber > 0:\n",
    "        # 65 is ASCII number for 'A'\n",
    "        excel_column = chr(65 + ((columnNumber - 1) % 26)) + excel_column\n",
    "        columnNumber = (columnNumber - 1 ) // 26\n",
    "    return excel_column"
   ]
  },
  {
   "cell_type": "code",
   "execution_count": 79,
   "id": "bf186d74-32c9-430e-86d6-d26f4d364997",
   "metadata": {},
   "outputs": [
    {
     "data": {
      "text/plain": [
       "'ALL'"
      ]
     },
     "execution_count": 79,
     "metadata": {},
     "output_type": "execute_result"
    }
   ],
   "source": [
    "convertToTitle(1000)"
   ]
  },
  {
   "cell_type": "markdown",
   "id": "52b9cc9c-6d69-4852-9136-31732bab7c78",
   "metadata": {},
   "source": [
    "<a id='Majority_Element'></a>\n",
    "### Majority_Element"
   ]
  },
  {
   "cell_type": "code",
   "execution_count": 123,
   "id": "22156882-6e0f-4b23-bbee-57c2d248e5c8",
   "metadata": {},
   "outputs": [],
   "source": [
    "def majorityElement(nums: list[int]) -> int:\n",
    "    num_vote = 0\n",
    "    candidate = 0\n",
    "    for num in nums:\n",
    "        if num_vote == 0:\n",
    "            candidate = num\n",
    "            \n",
    "        if candidate == num:\n",
    "            num_vote += 1\n",
    "        else:\n",
    "            num_vote -= 1\n",
    "            \n",
    "    return candidate"
   ]
  },
  {
   "cell_type": "markdown",
   "id": "ddda87f2-af92-46fe-9719-0a71a11c23af",
   "metadata": {},
   "source": [
    "<a id='Excel_Sheet_Column_Number'></a>\n",
    "### Excel_Sheet_Column_Number"
   ]
  },
  {
   "cell_type": "code",
   "execution_count": 126,
   "id": "b3b40fac-a82e-4ffa-814a-ca8344c26610",
   "metadata": {},
   "outputs": [],
   "source": [
    "def titleToNumber(columnTitle: str) -> int:\n",
    "    columnNum = 0\n",
    "    for c in columnTitle:\n",
    "        cNum = (ord(c) - 65) + 1\n",
    "        columnNum = (columnNum * 26) + cNum\n",
    "    \n",
    "    return columnNum"
   ]
  },
  {
   "cell_type": "code",
   "execution_count": 128,
   "id": "e70b0f21-5dbb-4399-86cd-3525a6ed1e3c",
   "metadata": {},
   "outputs": [
    {
     "data": {
      "text/plain": [
       "701"
      ]
     },
     "execution_count": 128,
     "metadata": {},
     "output_type": "execute_result"
    }
   ],
   "source": [
    "titleToNumber('ZY')"
   ]
  },
  {
   "cell_type": "markdown",
   "id": "ba02b583-1558-4ea2-a6ac-faba0af5cd43",
   "metadata": {},
   "source": [
    "<a id='Combine_Two_Tables'></a>\n",
    "### Combine_Two_Tables"
   ]
  },
  {
   "cell_type": "code",
   "execution_count": 6,
   "id": "71aadb40-6b22-4900-962d-22c38250a7d9",
   "metadata": {},
   "outputs": [
    {
     "name": "stdout",
     "output_type": "stream",
     "text": [
      "Person Table:\n",
      "   personId lastName firstName\n",
      "0         1     Wang     Allen\n",
      "1         2    Alice       Bob\n",
      "\n",
      "Address Table:\n",
      "   addressId  personId           city       state\n",
      "0          1         2  New York City    New York\n",
      "1          2         3       Leetcode  California\n"
     ]
    }
   ],
   "source": [
    "import pandas as pd\n",
    "\n",
    "# Person Table\n",
    "data_person = {\n",
    "    'personId': [1, 2],\n",
    "    'lastName': ['Wang', 'Alice'],\n",
    "    'firstName': ['Allen', 'Bob']\n",
    "}\n",
    "person_df = pd.DataFrame(data_person)\n",
    "\n",
    "# Address Table\n",
    "data_address = {\n",
    "    'addressId': [1, 2],\n",
    "    'personId': [2, 3],\n",
    "    'city': ['New York City', 'Leetcode'],\n",
    "    'state': ['New York', 'California']\n",
    "}\n",
    "address_df = pd.DataFrame(data_address)\n",
    "\n",
    "# Display the DataFrames\n",
    "print(\"Person Table:\")\n",
    "print(person_df)\n",
    "\n",
    "print(\"\\nAddress Table:\")\n",
    "print(address_df)"
   ]
  },
  {
   "cell_type": "code",
   "execution_count": 14,
   "id": "8c1a491c-c4e0-499f-8e49-286e499eba4c",
   "metadata": {},
   "outputs": [],
   "source": [
    "def combine_two_tables(person: pd.DataFrame, address: pd.DataFrame) -> pd.DataFrame:\n",
    "    df = person.merge(right=address, on='personId', how='left')\n",
    "    df.drop(['personId', 'addressId'], axis=1, inplace=True)\n",
    "    return df"
   ]
  },
  {
   "cell_type": "code",
   "execution_count": 16,
   "id": "a6aa2cd6-a4e9-41ff-a297-1785258a6481",
   "metadata": {},
   "outputs": [
    {
     "data": {
      "text/html": [
       "<div>\n",
       "<style scoped>\n",
       "    .dataframe tbody tr th:only-of-type {\n",
       "        vertical-align: middle;\n",
       "    }\n",
       "\n",
       "    .dataframe tbody tr th {\n",
       "        vertical-align: top;\n",
       "    }\n",
       "\n",
       "    .dataframe thead th {\n",
       "        text-align: right;\n",
       "    }\n",
       "</style>\n",
       "<table border=\"1\" class=\"dataframe\">\n",
       "  <thead>\n",
       "    <tr style=\"text-align: right;\">\n",
       "      <th></th>\n",
       "      <th>lastName</th>\n",
       "      <th>firstName</th>\n",
       "      <th>city</th>\n",
       "      <th>state</th>\n",
       "    </tr>\n",
       "  </thead>\n",
       "  <tbody>\n",
       "    <tr>\n",
       "      <th>0</th>\n",
       "      <td>Wang</td>\n",
       "      <td>Allen</td>\n",
       "      <td>NaN</td>\n",
       "      <td>NaN</td>\n",
       "    </tr>\n",
       "    <tr>\n",
       "      <th>1</th>\n",
       "      <td>Alice</td>\n",
       "      <td>Bob</td>\n",
       "      <td>New York City</td>\n",
       "      <td>New York</td>\n",
       "    </tr>\n",
       "  </tbody>\n",
       "</table>\n",
       "</div>"
      ],
      "text/plain": [
       "  lastName firstName           city     state\n",
       "0     Wang     Allen            NaN       NaN\n",
       "1    Alice       Bob  New York City  New York"
      ]
     },
     "execution_count": 16,
     "metadata": {},
     "output_type": "execute_result"
    }
   ],
   "source": [
    "combine_two_tables(person=person_df, address=address_df)"
   ]
  },
  {
   "cell_type": "markdown",
   "id": "d3aa1235-64ff-462f-bddb-5a69cfa278b8",
   "metadata": {},
   "source": [
    "<a id='Employees_Earning_More_Than_Their_Managers'></a>\n",
    "### Employees_Earning_More_Than_Their_Managers"
   ]
  },
  {
   "cell_type": "code",
   "execution_count": 22,
   "id": "fb58dd90-27a7-4e6d-9f44-482a15231aef",
   "metadata": {},
   "outputs": [
    {
     "name": "stdout",
     "output_type": "stream",
     "text": [
      "Employee Table:\n",
      "   id   name  salary  managerId\n",
      "0   1    Joe   70000        3.0\n",
      "1   2  Henry   80000        4.0\n",
      "2   3    Sam   60000        NaN\n",
      "3   4    Max   90000        NaN\n"
     ]
    }
   ],
   "source": [
    "import pandas as pd\n",
    "import numpy as np  # For handling null values\n",
    "\n",
    "# Employee Table\n",
    "data_employee = {\n",
    "    'id': [1, 2, 3, 4],\n",
    "    'name': ['Joe', 'Henry', 'Sam', 'Max'],\n",
    "    'salary': [70000, 80000, 60000, 90000],\n",
    "    'managerId': [3, 4, np.nan, np.nan]  # Use np.nan for null values\n",
    "}\n",
    "employee_df = pd.DataFrame(data_employee)\n",
    "\n",
    "# Display the DataFrame\n",
    "print(\"Employee Table:\")\n",
    "print(employee_df)"
   ]
  },
  {
   "cell_type": "code",
   "execution_count": 86,
   "id": "3b502191-64bf-42a7-af75-7243ff1d4b0d",
   "metadata": {},
   "outputs": [],
   "source": [
    "def find_employees(employee: pd.DataFrame) -> pd.DataFrame:\n",
    "    df = employee.merge(right=employee, left_on='id', right_on='managerId', how='inner')\n",
    "    earn_more = df[df['salary_y'] > df['salary_x']][['name_y']]\n",
    "    earn_more.rename(columns={'name_y': 'Employee'}, inplace=True)\n",
    "    return earn_more"
   ]
  },
  {
   "cell_type": "code",
   "execution_count": 88,
   "id": "4b314966-c1be-488b-99f7-e4c1e8722afe",
   "metadata": {},
   "outputs": [
    {
     "data": {
      "text/html": [
       "<div>\n",
       "<style scoped>\n",
       "    .dataframe tbody tr th:only-of-type {\n",
       "        vertical-align: middle;\n",
       "    }\n",
       "\n",
       "    .dataframe tbody tr th {\n",
       "        vertical-align: top;\n",
       "    }\n",
       "\n",
       "    .dataframe thead th {\n",
       "        text-align: right;\n",
       "    }\n",
       "</style>\n",
       "<table border=\"1\" class=\"dataframe\">\n",
       "  <thead>\n",
       "    <tr style=\"text-align: right;\">\n",
       "      <th></th>\n",
       "      <th>Employee</th>\n",
       "    </tr>\n",
       "  </thead>\n",
       "  <tbody>\n",
       "    <tr>\n",
       "      <th>0</th>\n",
       "      <td>Joe</td>\n",
       "    </tr>\n",
       "  </tbody>\n",
       "</table>\n",
       "</div>"
      ],
      "text/plain": [
       "  Employee\n",
       "0      Joe"
      ]
     },
     "execution_count": 88,
     "metadata": {},
     "output_type": "execute_result"
    }
   ],
   "source": [
    "find_employees(employee_df)"
   ]
  },
  {
   "cell_type": "markdown",
   "id": "f7f2f602-8d1c-47bc-bbec-5b1250e28d5d",
   "metadata": {},
   "source": [
    "<a id='Duplicate_Emails'></a>\n",
    "### Duplicate_Emails"
   ]
  },
  {
   "cell_type": "code",
   "execution_count": 31,
   "id": "9026dfe4-d2fc-43bc-bf13-54bd37ca4683",
   "metadata": {},
   "outputs": [
    {
     "name": "stdout",
     "output_type": "stream",
     "text": [
      "   id    email\n",
      "0   1  a@b.com\n",
      "1   2  a@b.com\n",
      "2   3  a@b.com\n"
     ]
    }
   ],
   "source": [
    "import pandas as pd\n",
    "\n",
    "# Create the DataFrame\n",
    "data = {\n",
    "    'id': [1, 2, 3],\n",
    "    'email': ['a@b.com', 'a@b.com', 'a@b.com']\n",
    "}\n",
    "\n",
    "df = pd.DataFrame(data)\n",
    "print(df)"
   ]
  },
  {
   "cell_type": "code",
   "execution_count": 41,
   "id": "e2429165-6615-4138-b072-abe386b30488",
   "metadata": {},
   "outputs": [
    {
     "data": {
      "text/plain": [
       "0    True\n",
       "1    True\n",
       "2    True\n",
       "dtype: bool"
      ]
     },
     "execution_count": 41,
     "metadata": {},
     "output_type": "execute_result"
    }
   ],
   "source": [
    "df.duplicated(subset='email', keep=False)"
   ]
  },
  {
   "cell_type": "code",
   "execution_count": 54,
   "id": "5845a8a7-b1ca-49ef-acf9-57dbf60dfd27",
   "metadata": {},
   "outputs": [],
   "source": [
    "def duplicate_emails(person: pd.DataFrame) -> pd.DataFrame:\n",
    "    return person[person.duplicated(subset='email')][['email']].drop_duplicates()"
   ]
  },
  {
   "cell_type": "code",
   "execution_count": 56,
   "id": "5aeab565-bd4f-4e7c-835f-b0ffc4d26f52",
   "metadata": {},
   "outputs": [
    {
     "data": {
      "text/html": [
       "<div>\n",
       "<style scoped>\n",
       "    .dataframe tbody tr th:only-of-type {\n",
       "        vertical-align: middle;\n",
       "    }\n",
       "\n",
       "    .dataframe tbody tr th {\n",
       "        vertical-align: top;\n",
       "    }\n",
       "\n",
       "    .dataframe thead th {\n",
       "        text-align: right;\n",
       "    }\n",
       "</style>\n",
       "<table border=\"1\" class=\"dataframe\">\n",
       "  <thead>\n",
       "    <tr style=\"text-align: right;\">\n",
       "      <th></th>\n",
       "      <th>email</th>\n",
       "    </tr>\n",
       "  </thead>\n",
       "  <tbody>\n",
       "    <tr>\n",
       "      <th>1</th>\n",
       "      <td>a@b.com</td>\n",
       "    </tr>\n",
       "  </tbody>\n",
       "</table>\n",
       "</div>"
      ],
      "text/plain": [
       "     email\n",
       "1  a@b.com"
      ]
     },
     "execution_count": 56,
     "metadata": {},
     "output_type": "execute_result"
    }
   ],
   "source": [
    "duplicate_emails(df)"
   ]
  },
  {
   "cell_type": "markdown",
   "id": "1e36a940-5352-4254-b5f3-9d688a957ec7",
   "metadata": {},
   "source": [
    "<a id='Customers_Who_Never_Order'></a>\n",
    "### Customers_Who_Never_Order"
   ]
  },
  {
   "cell_type": "code",
   "execution_count": 62,
   "id": "946a11ea-7240-4bfb-ad07-2da0a7ec6d42",
   "metadata": {},
   "outputs": [
    {
     "name": "stdout",
     "output_type": "stream",
     "text": [
      "Customers Table:\n",
      "   id   name\n",
      "0   1    Joe\n",
      "1   2  Henry\n",
      "2   3    Sam\n",
      "3   4    Max\n",
      "\n",
      "Orders Table:\n",
      "   id  customerId\n",
      "0   1           3\n",
      "1   2           1\n"
     ]
    }
   ],
   "source": [
    "import pandas as pd\n",
    "\n",
    "# Customers table\n",
    "customers_data = {\n",
    "    'id': [1, 2, 3, 4],\n",
    "    'name': ['Joe', 'Henry', 'Sam', 'Max']\n",
    "}\n",
    "customers_df = pd.DataFrame(customers_data)\n",
    "\n",
    "# Orders table\n",
    "orders_data = {\n",
    "    'id': [1, 2],\n",
    "    'customerId': [3, 1]\n",
    "}\n",
    "orders_df = pd.DataFrame(orders_data)\n",
    "\n",
    "print(\"Customers Table:\")\n",
    "print(customers_df)\n",
    "print(\"\\nOrders Table:\")\n",
    "print(orders_df)"
   ]
  },
  {
   "cell_type": "code",
   "execution_count": 68,
   "id": "d0d37f80-7c17-48f9-b696-d9ccf9f0ed7f",
   "metadata": {},
   "outputs": [
    {
     "data": {
      "text/html": [
       "<div>\n",
       "<style scoped>\n",
       "    .dataframe tbody tr th:only-of-type {\n",
       "        vertical-align: middle;\n",
       "    }\n",
       "\n",
       "    .dataframe tbody tr th {\n",
       "        vertical-align: top;\n",
       "    }\n",
       "\n",
       "    .dataframe thead th {\n",
       "        text-align: right;\n",
       "    }\n",
       "</style>\n",
       "<table border=\"1\" class=\"dataframe\">\n",
       "  <thead>\n",
       "    <tr style=\"text-align: right;\">\n",
       "      <th></th>\n",
       "      <th>name</th>\n",
       "    </tr>\n",
       "  </thead>\n",
       "  <tbody>\n",
       "    <tr>\n",
       "      <th>1</th>\n",
       "      <td>Henry</td>\n",
       "    </tr>\n",
       "    <tr>\n",
       "      <th>3</th>\n",
       "      <td>Max</td>\n",
       "    </tr>\n",
       "  </tbody>\n",
       "</table>\n",
       "</div>"
      ],
      "text/plain": [
       "    name\n",
       "1  Henry\n",
       "3    Max"
      ]
     },
     "execution_count": 68,
     "metadata": {},
     "output_type": "execute_result"
    }
   ],
   "source": [
    "customers_df.merge(right=orders_df, left_on='id', right_on='customerId', how='outer', indicator=True).query(\"_merge == 'left_only'\")[['name']]"
   ]
  },
  {
   "cell_type": "code",
   "execution_count": 74,
   "id": "c1377d70-5bb7-49e3-a800-eabacfba6f16",
   "metadata": {},
   "outputs": [],
   "source": [
    "def find_customers(customers: pd.DataFrame, orders: pd.DataFrame) -> pd.DataFrame:\n",
    "    df = customers.merge(right=orders, left_on='id', right_on='customerId', how='outer', indicator=True)\n",
    "    return df.query(\"_merge == 'left_only'\")[['name']].rename(columns={'name':'customers'})"
   ]
  },
  {
   "cell_type": "code",
   "execution_count": 76,
   "id": "42632545-8d77-4f84-88a0-d572ebb124d4",
   "metadata": {},
   "outputs": [
    {
     "data": {
      "text/html": [
       "<div>\n",
       "<style scoped>\n",
       "    .dataframe tbody tr th:only-of-type {\n",
       "        vertical-align: middle;\n",
       "    }\n",
       "\n",
       "    .dataframe tbody tr th {\n",
       "        vertical-align: top;\n",
       "    }\n",
       "\n",
       "    .dataframe thead th {\n",
       "        text-align: right;\n",
       "    }\n",
       "</style>\n",
       "<table border=\"1\" class=\"dataframe\">\n",
       "  <thead>\n",
       "    <tr style=\"text-align: right;\">\n",
       "      <th></th>\n",
       "      <th>customers</th>\n",
       "    </tr>\n",
       "  </thead>\n",
       "  <tbody>\n",
       "    <tr>\n",
       "      <th>1</th>\n",
       "      <td>Henry</td>\n",
       "    </tr>\n",
       "    <tr>\n",
       "      <th>3</th>\n",
       "      <td>Max</td>\n",
       "    </tr>\n",
       "  </tbody>\n",
       "</table>\n",
       "</div>"
      ],
      "text/plain": [
       "  customers\n",
       "1     Henry\n",
       "3       Max"
      ]
     },
     "execution_count": 76,
     "metadata": {},
     "output_type": "execute_result"
    }
   ],
   "source": [
    "find_customers(customers_df, orders_df)"
   ]
  },
  {
   "cell_type": "markdown",
   "id": "f3e2fc19-03aa-4b16-af7e-ecde23a7158d",
   "metadata": {},
   "source": [
    "<a id='Reverse_Bits'></a>\n",
    "### Reverse_Bits"
   ]
  },
  {
   "cell_type": "code",
   "execution_count": 55,
   "id": "80e39092-b6d3-4091-97cf-5cff1f1b9d41",
   "metadata": {},
   "outputs": [],
   "source": [
    "def reverseBits(n: int) -> int:\n",
    "    bin_ = format(n, 'b')\n",
    "    bin_ = '0' * (32 - len(bin_)) + bin_\n",
    "    return int(bin_[::-1], base=2)"
   ]
  },
  {
   "cell_type": "code",
   "execution_count": 57,
   "id": "120d4e38-430e-40e6-a7c6-6c925d491e1a",
   "metadata": {},
   "outputs": [
    {
     "data": {
      "text/plain": [
       "964176192"
      ]
     },
     "execution_count": 57,
     "metadata": {},
     "output_type": "execute_result"
    }
   ],
   "source": [
    "reverseBits(43261596)"
   ]
  },
  {
   "cell_type": "code",
   "execution_count": 155,
   "id": "7ebfdaa9-e3b6-4a34-87c1-02f576d8a335",
   "metadata": {},
   "outputs": [],
   "source": [
    "def reverseBits(n: int) -> int:\n",
    "    res = 0\n",
    "    for _ in range(32):\n",
    "        bit = (n & 1)\n",
    "        res = (res << 1) | bit\n",
    "        n = n >> 1\n",
    "    return res"
   ]
  },
  {
   "cell_type": "code",
   "execution_count": 157,
   "id": "b376513d-2b58-48df-a458-23f63e7d34e7",
   "metadata": {},
   "outputs": [
    {
     "data": {
      "text/plain": [
       "964176192"
      ]
     },
     "execution_count": 157,
     "metadata": {},
     "output_type": "execute_result"
    }
   ],
   "source": [
    "reverseBits(43261596)"
   ]
  },
  {
   "cell_type": "markdown",
   "id": "217d4b4b-a432-4844-b2ba-9181a19f6e82",
   "metadata": {},
   "source": [
    "<a id='Number_of_1_Bits'></a>\n",
    "### Number_of_1_Bits"
   ]
  },
  {
   "cell_type": "code",
   "execution_count": 9,
   "id": "76924061-0693-4166-87fe-7a0125ca6550",
   "metadata": {},
   "outputs": [],
   "source": [
    "def hammingWeight(n: int) -> int:\n",
    "    return format(n, 'b').count('1')"
   ]
  },
  {
   "cell_type": "code",
   "execution_count": 13,
   "id": "09417b05-11aa-4af2-a9c3-a5623488df85",
   "metadata": {},
   "outputs": [
    {
     "data": {
      "text/plain": [
       "3"
      ]
     },
     "execution_count": 13,
     "metadata": {},
     "output_type": "execute_result"
    }
   ],
   "source": [
    "hammingWeight(11)"
   ]
  },
  {
   "cell_type": "code",
   "execution_count": 15,
   "id": "b8d2c1ab-11f2-4ed1-8875-d634e453642c",
   "metadata": {},
   "outputs": [],
   "source": [
    "def hammingWeight(n: int) -> int:\n",
    "    count = 0\n",
    "    while n > 0:\n",
    "        count += (n & 1)\n",
    "        n = n >> 1\n",
    "    return count"
   ]
  },
  {
   "cell_type": "code",
   "execution_count": 21,
   "id": "4358a6a5-fd3d-4a75-9997-e95edeb06aca",
   "metadata": {},
   "outputs": [
    {
     "data": {
      "text/plain": [
       "30"
      ]
     },
     "execution_count": 21,
     "metadata": {},
     "output_type": "execute_result"
    }
   ],
   "source": [
    "hammingWeight(2147483645)"
   ]
  },
  {
   "cell_type": "markdown",
   "id": "d1226455-331b-4a19-9abe-3b05f5d35f03",
   "metadata": {},
   "source": [
    "<a id='Missing_Number'></a>\n",
    "### Missing_Number"
   ]
  },
  {
   "cell_type": "code",
   "execution_count": 49,
   "id": "32e107d7-9157-4682-bd18-8ce8632be7f6",
   "metadata": {},
   "outputs": [],
   "source": [
    "def missingNumber(nums: list[int]) -> int:\n",
    "    return (set(range(len(nums) + 1)) - set(nums)).pop()"
   ]
  },
  {
   "cell_type": "code",
   "execution_count": 51,
   "id": "12a86faa-97db-4b61-b260-1c9f7835f859",
   "metadata": {},
   "outputs": [
    {
     "data": {
      "text/plain": [
       "8"
      ]
     },
     "execution_count": 51,
     "metadata": {},
     "output_type": "execute_result"
    }
   ],
   "source": [
    "missingNumber([9,6,4,2,3,5,7,0,1])"
   ]
  },
  {
   "cell_type": "code",
   "execution_count": 109,
   "id": "fea49353-1744-4b9a-b418-ed51da5a52db",
   "metadata": {},
   "outputs": [],
   "source": [
    "def missingNumber(nums: list[int]) -> int:\n",
    "    # No need to sort if input is guaranteed to be numbers 0 to n with one missing\n",
    "    nums.sort()\n",
    "    start, end = 0, len(nums) - 1\n",
    "\n",
    "    while start <= end:\n",
    "        mid = (start + end) // 2\n",
    "        # Check if nums[mid] matches its index\n",
    "        if nums[mid] == mid:\n",
    "            # Missing number is in the right half\n",
    "            start = mid + 1\n",
    "        else:\n",
    "            # Missing number is in the left half\n",
    "            end = mid - 1\n",
    "\n",
    "    # The missing number is the point where the index starts to deviate\n",
    "    return start\n"
   ]
  },
  {
   "cell_type": "code",
   "execution_count": 113,
   "id": "5b972c7e-191a-4306-8024-9d4d25337967",
   "metadata": {},
   "outputs": [
    {
     "data": {
      "text/plain": [
       "8"
      ]
     },
     "execution_count": 113,
     "metadata": {},
     "output_type": "execute_result"
    }
   ],
   "source": [
    "missingNumber([9,6,4,2,3,5,7,0,1])"
   ]
  },
  {
   "cell_type": "markdown",
   "id": "650396c4-65ab-4643-ab44-00a56f4283e0",
   "metadata": {},
   "source": [
    "<a id='Intersection_of_Two_Arrays_II'></a>\n",
    "### Intersection_of_Two_Arrays_II"
   ]
  },
  {
   "cell_type": "code",
   "execution_count": 79,
   "id": "56bd2c22-e094-49c6-b6bc-17293745cde0",
   "metadata": {},
   "outputs": [],
   "source": [
    "def intersect(nums1: list[int], nums2: list[int]) -> list[int]:\n",
    "    res = []\n",
    "    nums2.sort()\n",
    "    \n",
    "    for n in nums1:\n",
    "        start = 0\n",
    "        end = len(nums2) - 1\n",
    "        while start <= end:\n",
    "            mid = (start + end) // 2\n",
    "            if nums2[mid] > n:\n",
    "                end = mid - 1\n",
    "            elif nums2[mid] < n:\n",
    "                start = mid + 1\n",
    "            else:\n",
    "                res.append(n)\n",
    "                nums2.pop(mid)\n",
    "                break\n",
    "                \n",
    "    return res\n"
   ]
  },
  {
   "cell_type": "code",
   "execution_count": 83,
   "id": "ff46e1ef-2472-42ad-b1e1-9f330d250d5e",
   "metadata": {},
   "outputs": [
    {
     "data": {
      "text/plain": [
       "[2]"
      ]
     },
     "execution_count": 83,
     "metadata": {},
     "output_type": "execute_result"
    }
   ],
   "source": [
    "nums1 = [4,9,5]\n",
    "nums2 = [9,4,9,8,4]\n",
    "nums1 = [1,2,2,1]\n",
    "nums2 = [2]\n",
    "intersect(nums1, nums2)"
   ]
  },
  {
   "cell_type": "markdown",
   "id": "66940d65-285d-4ad2-a11e-2fa9b6b8c286",
   "metadata": {},
   "source": [
    "<a id='Count_Complete_Tree_Nodes'></a>\n",
    "### Count_Complete_Tree_Nodes"
   ]
  },
  {
   "cell_type": "code",
   "execution_count": 94,
   "id": "b9533ff9-7faa-4d21-a930-1bb92e2f5064",
   "metadata": {},
   "outputs": [],
   "source": [
    "def countNodes(root: TreeNode):\n",
    "    if not root:\n",
    "        return 0\n",
    "\n",
    "    return countNodes(root.left) + countNodes(root.right) + 1"
   ]
  },
  {
   "cell_type": "code",
   "execution_count": 96,
   "id": "b3f4a643-cc74-447b-81df-d42ff7559e62",
   "metadata": {},
   "outputs": [
    {
     "data": {
      "text/plain": [
       "6"
      ]
     },
     "execution_count": 96,
     "metadata": {},
     "output_type": "execute_result"
    }
   ],
   "source": [
    "root = build_tree([1,2,3,4,5,6])\n",
    "countNodes(root)"
   ]
  },
  {
   "cell_type": "markdown",
   "id": "eac5462a-7a2f-4ab5-917d-b331c3eb2038",
   "metadata": {},
   "source": [
    "<a id='Happy_Number'></a>\n",
    "### Happy_Number"
   ]
  },
  {
   "cell_type": "code",
   "execution_count": 7,
   "id": "76f476ab-3a28-4c87-8ec8-b0c5beb81977",
   "metadata": {},
   "outputs": [],
   "source": [
    "def isHappy(n: int) -> bool:\n",
    "    visited = set()\n",
    "    while n not in visited:\n",
    "        if n == 1:\n",
    "            return True\n",
    "\n",
    "        visited.add(n)\n",
    "        output = 0\n",
    "        while n:\n",
    "            digit = n % 10\n",
    "            output += digit**2\n",
    "            n = n // 10\n",
    "        n = output\n",
    "    return False"
   ]
  },
  {
   "cell_type": "code",
   "execution_count": 13,
   "id": "a8f13075-0a33-43de-a771-2c2e1dcb45da",
   "metadata": {},
   "outputs": [
    {
     "data": {
      "text/plain": [
       "False"
      ]
     },
     "execution_count": 13,
     "metadata": {},
     "output_type": "execute_result"
    }
   ],
   "source": [
    "isHappy(15)"
   ]
  },
  {
   "cell_type": "code",
   "execution_count": 15,
   "id": "4aa6e211-2794-4ce7-be31-13c25dfef34f",
   "metadata": {},
   "outputs": [],
   "source": [
    "def isHappy(n: int) -> bool:    \n",
    "    \n",
    "    def get_next_number(n):    \n",
    "        output = 0\n",
    "        \n",
    "        while n:\n",
    "            digit = n % 10\n",
    "            output += digit ** 2\n",
    "            n = n // 10\n",
    "        \n",
    "        return output\n",
    "\n",
    "    slow = get_next_number(n)\n",
    "    fast = get_next_number(get_next_number(n))\n",
    "\n",
    "    while slow != fast:\n",
    "        if fast == 1: return True\n",
    "        slow = get_next_number(slow)\n",
    "        fast = get_next_number(get_next_number(fast))\n",
    "\n",
    "    return slow == 1"
   ]
  },
  {
   "cell_type": "markdown",
   "id": "aa2af40d-4e6e-46ce-bcee-ee8648bbc10d",
   "metadata": {},
   "source": [
    "<a id='Reverse_Linked_List'></a>\n",
    "### Reverse_Linked_List"
   ]
  },
  {
   "cell_type": "code",
   "execution_count": 48,
   "id": "78f8369d-c1b5-47a4-8abe-796fdbdc76c9",
   "metadata": {},
   "outputs": [],
   "source": [
    "# Definition for singly-linked list.\n",
    "class ListNode:\n",
    "    def __init__(self, val=0, next=None):\n",
    "        self.val = val\n",
    "        self.next = next\n",
    "\n",
    "def reverseList(head: ListNode) -> ListNode:\n",
    "    if not head:\n",
    "        return head\n",
    "    nextNode = head.next\n",
    "    head.next = None\n",
    "    preNode = head\n",
    "    while nextNode:\n",
    "        head = nextNode\n",
    "        nextNode = nextNode.next\n",
    "        head.next = preNode\n",
    "        preNode = head\n",
    "      \n",
    "    return head"
   ]
  },
  {
   "cell_type": "code",
   "execution_count": 50,
   "id": "7741f3a5-2078-43d9-86db-636a38fe4502",
   "metadata": {},
   "outputs": [
    {
     "name": "stdout",
     "output_type": "stream",
     "text": [
      "5 -> 4 -> 3 -> 2 -> 1\n"
     ]
    }
   ],
   "source": [
    "head = build_linked_list_from_list([1,2,3,4,5])\n",
    "\n",
    "display_linked_list(reverseList(head))"
   ]
  },
  {
   "cell_type": "code",
   "execution_count": 56,
   "id": "0fb5e102-5524-4332-87a0-cb40cc01e36b",
   "metadata": {},
   "outputs": [],
   "source": [
    "def reverseList(head: ListNode) -> ListNode:\n",
    "    if not head or not head.next:\n",
    "        return head\n",
    "\n",
    "    new_head = reverseList(head.next)\n",
    "    head.next.next = head\n",
    "    head.next = None\n",
    "    \n",
    "    return new_head"
   ]
  },
  {
   "cell_type": "code",
   "execution_count": 58,
   "id": "b9273e25-fb14-40ab-952b-681aef692542",
   "metadata": {},
   "outputs": [
    {
     "name": "stdout",
     "output_type": "stream",
     "text": [
      "5 -> 4 -> 3 -> 2 -> 1\n"
     ]
    }
   ],
   "source": [
    "head = build_linked_list_from_list([1,2,3,4,5])\n",
    "\n",
    "display_linked_list(reverseList(head))"
   ]
  },
  {
   "cell_type": "markdown",
   "id": "b291bdd7-a337-49b3-a742-d34d045f58af",
   "metadata": {},
   "source": [
    "<a id='Contains_Duplicate'></a>\n",
    "### Contains_Duplicate"
   ]
  },
  {
   "cell_type": "code",
   "execution_count": 17,
   "id": "37422177-9f48-454f-bcb7-30e46340e548",
   "metadata": {},
   "outputs": [],
   "source": [
    "def containsDuplicate(nums: list[int]) -> bool:\n",
    "    return len(set(nums)) < len(nums)"
   ]
  },
  {
   "cell_type": "code",
   "execution_count": 23,
   "id": "9fddded9-9bb1-424d-b67b-f71a2aec4ca8",
   "metadata": {},
   "outputs": [
    {
     "data": {
      "text/plain": [
       "False"
      ]
     },
     "execution_count": 23,
     "metadata": {},
     "output_type": "execute_result"
    }
   ],
   "source": [
    "containsDuplicate([1, 2])"
   ]
  },
  {
   "cell_type": "code",
   "execution_count": 29,
   "id": "135a87c1-3b55-474e-a427-eb10e0fb6696",
   "metadata": {},
   "outputs": [],
   "source": [
    "def containsDuplicate(nums: list[int]) -> bool:\n",
    "    nums.sort()\n",
    "    for i in range(1, len(nums)):\n",
    "        if nums[i] == nums[i-1]:\n",
    "            return True\n",
    "    return False"
   ]
  },
  {
   "cell_type": "code",
   "execution_count": 33,
   "id": "7ae90372-cf75-4210-88d4-3a0f09ba98a2",
   "metadata": {},
   "outputs": [
    {
     "data": {
      "text/plain": [
       "True"
      ]
     },
     "execution_count": 33,
     "metadata": {},
     "output_type": "execute_result"
    }
   ],
   "source": [
    "containsDuplicate([1, 2, 1])"
   ]
  },
  {
   "cell_type": "markdown",
   "id": "3a8208ca-d66e-4ef9-af91-69c863b97c4e",
   "metadata": {},
   "source": [
    "<a id='Palindrome_Linked_List'></a>\n",
    "### Palindrome_Linked_List"
   ]
  },
  {
   "cell_type": "code",
   "execution_count": 165,
   "id": "14058c43-f32d-40c2-b42f-16d55ddd9074",
   "metadata": {},
   "outputs": [],
   "source": [
    "def isPalindrome(head: ListNode) -> bool:\n",
    "    stack = []\n",
    "    current = head\n",
    "    while current:\n",
    "        stack.append(current.val)\n",
    "        current = current.next\n",
    "    while head:\n",
    "        if head.val != stack.pop():\n",
    "            return False\n",
    "        head = head.next\n",
    "    return True"
   ]
  },
  {
   "cell_type": "code",
   "execution_count": 167,
   "id": "52fe47e2-0897-409b-89b8-969813a2a3a3",
   "metadata": {},
   "outputs": [
    {
     "data": {
      "text/plain": [
       "False"
      ]
     },
     "execution_count": 167,
     "metadata": {},
     "output_type": "execute_result"
    }
   ],
   "source": [
    "head = build_linked_list_from_list([1,2, 1, 2])\n",
    "isPalindrome(head)"
   ]
  },
  {
   "cell_type": "code",
   "execution_count": 169,
   "id": "280b6dc9-8056-4f7b-beb9-eb7cbc98cce0",
   "metadata": {},
   "outputs": [],
   "source": [
    "def isPalindrome(head: ListNode) -> bool:\n",
    "    list_vals = []\n",
    "    while head:\n",
    "        list_vals.append(head.val)\n",
    "        head = head.next\n",
    "    left, right = 0, len(list_vals) - 1\n",
    "    while left < right and list_vals[left] == list_vals[right]:\n",
    "        left += 1\n",
    "        right -= 1\n",
    "        \n",
    "    return left >= right"
   ]
  },
  {
   "cell_type": "code",
   "execution_count": 171,
   "id": "4aca852d-2284-4cfe-ac59-9fd935a39c3d",
   "metadata": {},
   "outputs": [
    {
     "data": {
      "text/plain": [
       "False"
      ]
     },
     "execution_count": 171,
     "metadata": {},
     "output_type": "execute_result"
    }
   ],
   "source": [
    "head = build_linked_list_from_list([1, 2])\n",
    "isPalindrome(head)\n"
   ]
  },
  {
   "cell_type": "markdown",
   "id": "71352953-8514-4479-a701-4cbe63f1a61b",
   "metadata": {},
   "source": [
    "<a id='Valid_Anagram'></a>\n",
    "### Valid_Anagram"
   ]
  },
  {
   "cell_type": "code",
   "execution_count": 74,
   "id": "1dd5a058-7dc2-418a-a34f-2de740b00345",
   "metadata": {},
   "outputs": [],
   "source": [
    "def count_let(s: str):\n",
    "    count = {}\n",
    "    for let in s:\n",
    "        count[let] = count.get(let, 0) + 1\n",
    "    return count\n",
    "    \n",
    "def isAnagram(s: str, t: str) -> bool:\n",
    "    s_count = count_let(s)\n",
    "    t_count = count_let(t)\n",
    "\n",
    "    for let in t_count: \n",
    "        if (s_count != t_count) or (s_count[let] != t_count[let]):\n",
    "            return False\n",
    "    return True"
   ]
  },
  {
   "cell_type": "code",
   "execution_count": 76,
   "id": "335fe3bb-228b-4397-ad12-2cb46cc63569",
   "metadata": {},
   "outputs": [
    {
     "data": {
      "text/plain": [
       "False"
      ]
     },
     "execution_count": 76,
     "metadata": {},
     "output_type": "execute_result"
    }
   ],
   "source": [
    "s = \"ab\"\n",
    "t = \"a\"\n",
    "isAnagram(s, t)"
   ]
  },
  {
   "cell_type": "code",
   "execution_count": null,
   "id": "1c0ccb39-b8d9-4893-8758-6574b2f95a5d",
   "metadata": {},
   "outputs": [],
   "source": [
    "s_count == t_count"
   ]
  },
  {
   "cell_type": "code",
   "execution_count": null,
   "id": "8ab24b73",
   "metadata": {},
   "outputs": [],
   "source": [
    "<a id='Refer_to'></a>\n",
    "### Refer_to"
   ]
  },
  {
   "cell_type": "code",
   "execution_count": null,
   "id": "41f8b178",
   "metadata": {},
   "outputs": [],
   "source": [
    "<a id='Refer_to'></a>\n",
    "### Refer_to"
   ]
  },
  {
   "cell_type": "code",
   "execution_count": null,
   "id": "eb324b5d",
   "metadata": {},
   "outputs": [],
   "source": [
    "<a id='Refer_to'></a>\n",
    "### Refer_to"
   ]
  },
  {
   "cell_type": "code",
   "execution_count": null,
   "id": "f921d353",
   "metadata": {},
   "outputs": [],
   "source": [
    "<a id='Refer_to'></a>\n",
    "### Refer_to"
   ]
  },
  {
   "cell_type": "code",
   "execution_count": null,
   "id": "e5e6c0a8",
   "metadata": {},
   "outputs": [],
   "source": [
    "<a id='Refer_to'></a>\n",
    "### Refer_to"
   ]
  },
  {
   "cell_type": "code",
   "execution_count": null,
   "id": "cb8247f0",
   "metadata": {},
   "outputs": [],
   "source": [
    "<a id='Refer_to'></a>\n",
    "### Refer_to"
   ]
  },
  {
   "cell_type": "code",
   "execution_count": null,
   "id": "ade339b1",
   "metadata": {},
   "outputs": [],
   "source": [
    "<a id='Refer_to'></a>\n",
    "### Refer_to"
   ]
  },
  {
   "cell_type": "code",
   "execution_count": null,
   "id": "1f97fd8d",
   "metadata": {},
   "outputs": [],
   "source": [
    "<a id='Refer_to'></a>\n",
    "### Refer_to"
   ]
  }
 ],
 "metadata": {
  "kernelspec": {
   "display_name": "Python 3 (ipykernel)",
   "language": "python",
   "name": "python3"
  },
  "language_info": {
   "codemirror_mode": {
    "name": "ipython",
    "version": 3
   },
   "file_extension": ".py",
   "mimetype": "text/x-python",
   "name": "python",
   "nbconvert_exporter": "python",
   "pygments_lexer": "ipython3",
   "version": "3.12.7"
  }
 },
 "nbformat": 4,
 "nbformat_minor": 5
}
